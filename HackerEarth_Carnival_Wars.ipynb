{
  "nbformat": 4,
  "nbformat_minor": 0,
  "metadata": {
    "colab": {
      "name": "HackerEarth Carnival Wars.ipynb",
      "provenance": [],
      "toc_visible": true,
      "mount_file_id": "1Gbcf-ySJ3NAjuW6SV8T-FF0JRAp-Qvzo",
      "authorship_tag": "ABX9TyNYtnHI7vsnS2MwA54+NWlm",
      "include_colab_link": true
    },
    "kernelspec": {
      "name": "python3",
      "display_name": "Python 3"
    }
  },
  "cells": [
    {
      "cell_type": "markdown",
      "metadata": {
        "id": "view-in-github",
        "colab_type": "text"
      },
      "source": [
        "<a href=\"https://colab.research.google.com/github/Ankan1998/Hackathons/blob/main/HackerEarth_Carnival_Wars.ipynb\" target=\"_parent\"><img src=\"https://colab.research.google.com/assets/colab-badge.svg\" alt=\"Open In Colab\"/></a>"
      ]
    },
    {
      "cell_type": "markdown",
      "metadata": {
        "id": "aINACOWorIQ2"
      },
      "source": [
        "### Checking the dataset"
      ]
    },
    {
      "cell_type": "code",
      "metadata": {
        "id": "898N3zPjrNxc"
      },
      "source": [
        "import pandas as pd \n",
        "import numpy as np"
      ],
      "execution_count": 1,
      "outputs": []
    },
    {
      "cell_type": "code",
      "metadata": {
        "id": "wQHGlW7RqslA"
      },
      "source": [
        "train=pd.read_csv(\"/content/drive/MyDrive/Hackathon/HackerEarth Machine Learning Challenge: Carnival Wars/dataset/train.csv\")\n",
        "test=pd.read_csv(\"/content/drive/MyDrive/Hackathon/HackerEarth Machine Learning Challenge: Carnival Wars/dataset/test.csv\")\n",
        "sample=pd.read_csv(\"/content/drive/MyDrive/Hackathon/HackerEarth Machine Learning Challenge: Carnival Wars/dataset/sample_submission.csv\")"
      ],
      "execution_count": 2,
      "outputs": []
    },
    {
      "cell_type": "code",
      "metadata": {
        "colab": {
          "base_uri": "https://localhost:8080/",
          "height": 316
        },
        "id": "mp4zWwLwrijb",
        "outputId": "3f27afb5-657e-4c4a-ed99-987573f2d844"
      },
      "source": [
        "train.head()"
      ],
      "execution_count": 3,
      "outputs": [
        {
          "output_type": "execute_result",
          "data": {
            "text/html": [
              "<div>\n",
              "<style scoped>\n",
              "    .dataframe tbody tr th:only-of-type {\n",
              "        vertical-align: middle;\n",
              "    }\n",
              "\n",
              "    .dataframe tbody tr th {\n",
              "        vertical-align: top;\n",
              "    }\n",
              "\n",
              "    .dataframe thead th {\n",
              "        text-align: right;\n",
              "    }\n",
              "</style>\n",
              "<table border=\"1\" class=\"dataframe\">\n",
              "  <thead>\n",
              "    <tr style=\"text-align: right;\">\n",
              "      <th></th>\n",
              "      <th>Product_id</th>\n",
              "      <th>Stall_no</th>\n",
              "      <th>instock_date</th>\n",
              "      <th>Market_Category</th>\n",
              "      <th>Customer_name</th>\n",
              "      <th>Loyalty_customer</th>\n",
              "      <th>Product_Category</th>\n",
              "      <th>Grade</th>\n",
              "      <th>Demand</th>\n",
              "      <th>Discount_avail</th>\n",
              "      <th>charges_1</th>\n",
              "      <th>charges_2 (%)</th>\n",
              "      <th>Minimum_price</th>\n",
              "      <th>Maximum_price</th>\n",
              "      <th>Selling_Price</th>\n",
              "    </tr>\n",
              "  </thead>\n",
              "  <tbody>\n",
              "    <tr>\n",
              "      <th>0</th>\n",
              "      <td>BRAE2NF6JA5GUEXG</td>\n",
              "      <td>37.0</td>\n",
              "      <td>2015-08-22 18:36:12.000</td>\n",
              "      <td>2</td>\n",
              "      <td>Lillyann</td>\n",
              "      <td>Yes</td>\n",
              "      <td>Fashion</td>\n",
              "      <td>1</td>\n",
              "      <td>68</td>\n",
              "      <td>0.0</td>\n",
              "      <td>376.0</td>\n",
              "      <td>11.0</td>\n",
              "      <td>2983.0</td>\n",
              "      <td>4713.0</td>\n",
              "      <td>4185.947700</td>\n",
              "    </tr>\n",
              "    <tr>\n",
              "      <th>1</th>\n",
              "      <td>TUNE8SFB6RJN2HSD</td>\n",
              "      <td>38.0</td>\n",
              "      <td>2016-03-27 21:19:13.000</td>\n",
              "      <td>24</td>\n",
              "      <td>Klynn</td>\n",
              "      <td>Yes</td>\n",
              "      <td>Fashion</td>\n",
              "      <td>0</td>\n",
              "      <td>51</td>\n",
              "      <td>0.0</td>\n",
              "      <td>397.0</td>\n",
              "      <td>12.0</td>\n",
              "      <td>7495.0</td>\n",
              "      <td>10352.0</td>\n",
              "      <td>9271.490256</td>\n",
              "    </tr>\n",
              "    <tr>\n",
              "      <th>2</th>\n",
              "      <td>BRAEAR7WZPQGPBZU</td>\n",
              "      <td>9.0</td>\n",
              "      <td>2015-08-18 19:25:22.000</td>\n",
              "      <td>447</td>\n",
              "      <td>Ridge</td>\n",
              "      <td>Yes</td>\n",
              "      <td>Child_care</td>\n",
              "      <td>0</td>\n",
              "      <td>10</td>\n",
              "      <td>0.0</td>\n",
              "      <td>250.0</td>\n",
              "      <td>9.0</td>\n",
              "      <td>5752.0</td>\n",
              "      <td>7309.0</td>\n",
              "      <td>6785.701362</td>\n",
              "    </tr>\n",
              "    <tr>\n",
              "      <th>3</th>\n",
              "      <td>WATDZ2ZQ8JPDHCTJ</td>\n",
              "      <td>50.0</td>\n",
              "      <td>2016-03-28 21:53:01.000</td>\n",
              "      <td>23</td>\n",
              "      <td>Abran</td>\n",
              "      <td>Yes</td>\n",
              "      <td>Educational</td>\n",
              "      <td>2</td>\n",
              "      <td>48</td>\n",
              "      <td>0.0</td>\n",
              "      <td>144.0</td>\n",
              "      <td>13.0</td>\n",
              "      <td>5090.0</td>\n",
              "      <td>20814.0</td>\n",
              "      <td>13028.917824</td>\n",
              "    </tr>\n",
              "    <tr>\n",
              "      <th>4</th>\n",
              "      <td>JWSEBUKYQPMBZ3RK</td>\n",
              "      <td>7.0</td>\n",
              "      <td>2016-03-29 22:58:53.000</td>\n",
              "      <td>63</td>\n",
              "      <td>Dustyn</td>\n",
              "      <td>Yes</td>\n",
              "      <td>Repair</td>\n",
              "      <td>1</td>\n",
              "      <td>35</td>\n",
              "      <td>1.0</td>\n",
              "      <td>211.0</td>\n",
              "      <td>4.0</td>\n",
              "      <td>2430.0</td>\n",
              "      <td>9261.0</td>\n",
              "      <td>906.553935</td>\n",
              "    </tr>\n",
              "  </tbody>\n",
              "</table>\n",
              "</div>"
            ],
            "text/plain": [
              "         Product_id  Stall_no  ... Maximum_price  Selling_Price\n",
              "0  BRAE2NF6JA5GUEXG      37.0  ...        4713.0    4185.947700\n",
              "1  TUNE8SFB6RJN2HSD      38.0  ...       10352.0    9271.490256\n",
              "2  BRAEAR7WZPQGPBZU       9.0  ...        7309.0    6785.701362\n",
              "3  WATDZ2ZQ8JPDHCTJ      50.0  ...       20814.0   13028.917824\n",
              "4  JWSEBUKYQPMBZ3RK       7.0  ...        9261.0     906.553935\n",
              "\n",
              "[5 rows x 15 columns]"
            ]
          },
          "metadata": {
            "tags": []
          },
          "execution_count": 3
        }
      ]
    },
    {
      "cell_type": "code",
      "metadata": {
        "colab": {
          "base_uri": "https://localhost:8080/"
        },
        "id": "Rc9xoB9Eefsd",
        "outputId": "76791bfb-6051-4345-b68f-709c890cb761"
      },
      "source": [
        "len(train)"
      ],
      "execution_count": 4,
      "outputs": [
        {
          "output_type": "execute_result",
          "data": {
            "text/plain": [
              "6368"
            ]
          },
          "metadata": {
            "tags": []
          },
          "execution_count": 4
        }
      ]
    },
    {
      "cell_type": "code",
      "metadata": {
        "colab": {
          "base_uri": "https://localhost:8080/",
          "height": 316
        },
        "id": "1EQGHry2rlcg",
        "outputId": "1aa95f9f-953c-4fe7-ba24-850acb7dbc99"
      },
      "source": [
        "test.head()"
      ],
      "execution_count": null,
      "outputs": [
        {
          "output_type": "execute_result",
          "data": {
            "text/html": [
              "<div>\n",
              "<style scoped>\n",
              "    .dataframe tbody tr th:only-of-type {\n",
              "        vertical-align: middle;\n",
              "    }\n",
              "\n",
              "    .dataframe tbody tr th {\n",
              "        vertical-align: top;\n",
              "    }\n",
              "\n",
              "    .dataframe thead th {\n",
              "        text-align: right;\n",
              "    }\n",
              "</style>\n",
              "<table border=\"1\" class=\"dataframe\">\n",
              "  <thead>\n",
              "    <tr style=\"text-align: right;\">\n",
              "      <th></th>\n",
              "      <th>Product_id</th>\n",
              "      <th>Stall_no</th>\n",
              "      <th>instock_date</th>\n",
              "      <th>Market_Category</th>\n",
              "      <th>Customer_name</th>\n",
              "      <th>Loyalty_customer</th>\n",
              "      <th>Product_Category</th>\n",
              "      <th>Grade</th>\n",
              "      <th>Demand</th>\n",
              "      <th>Discount_avail</th>\n",
              "      <th>charges_1</th>\n",
              "      <th>charges_2 (%)</th>\n",
              "      <th>Minimum_price</th>\n",
              "      <th>Maximum_price</th>\n",
              "    </tr>\n",
              "  </thead>\n",
              "  <tbody>\n",
              "    <tr>\n",
              "      <th>0</th>\n",
              "      <td>SCHE4YSTDVPVZVXW</td>\n",
              "      <td>39.0</td>\n",
              "      <td>2016-01-13 07:45:08.000</td>\n",
              "      <td>205</td>\n",
              "      <td>Ivanka</td>\n",
              "      <td>No</td>\n",
              "      <td>Fashion</td>\n",
              "      <td>0</td>\n",
              "      <td>90</td>\n",
              "      <td>0</td>\n",
              "      <td>380.0</td>\n",
              "      <td>16.0</td>\n",
              "      <td>2576.0</td>\n",
              "      <td>3340</td>\n",
              "    </tr>\n",
              "    <tr>\n",
              "      <th>1</th>\n",
              "      <td>ACCEGCATKHNRXUHW</td>\n",
              "      <td>49.0</td>\n",
              "      <td>2015-08-23 20:37:05.000</td>\n",
              "      <td>3</td>\n",
              "      <td>Isaak</td>\n",
              "      <td>Yes</td>\n",
              "      <td>Fashion</td>\n",
              "      <td>0</td>\n",
              "      <td>87</td>\n",
              "      <td>0</td>\n",
              "      <td>393.0</td>\n",
              "      <td>16.0</td>\n",
              "      <td>1202.0</td>\n",
              "      <td>1955</td>\n",
              "    </tr>\n",
              "    <tr>\n",
              "      <th>2</th>\n",
              "      <td>NKCE6GJ5XVJDXNNZ</td>\n",
              "      <td>1.0</td>\n",
              "      <td>2015-11-14 18:12:39.000</td>\n",
              "      <td>183</td>\n",
              "      <td>Analiese</td>\n",
              "      <td>No</td>\n",
              "      <td>Technology</td>\n",
              "      <td>2</td>\n",
              "      <td>55</td>\n",
              "      <td>0</td>\n",
              "      <td>493.0</td>\n",
              "      <td>9.0</td>\n",
              "      <td>7175.0</td>\n",
              "      <td>15715</td>\n",
              "    </tr>\n",
              "    <tr>\n",
              "      <th>3</th>\n",
              "      <td>NKCEB8BK3ZXDHDHM</td>\n",
              "      <td>8.0</td>\n",
              "      <td>2015-11-21 04:56:19.000</td>\n",
              "      <td>358</td>\n",
              "      <td>Rusty</td>\n",
              "      <td>Yes</td>\n",
              "      <td>Child_care</td>\n",
              "      <td>3</td>\n",
              "      <td>86</td>\n",
              "      <td>0</td>\n",
              "      <td>303.0</td>\n",
              "      <td>16.0</td>\n",
              "      <td>5404.0</td>\n",
              "      <td>13078</td>\n",
              "    </tr>\n",
              "    <tr>\n",
              "      <th>4</th>\n",
              "      <td>TOPEFDXSAHRNPF94</td>\n",
              "      <td>33.0</td>\n",
              "      <td>2015-05-06 15:09:46.000</td>\n",
              "      <td>167</td>\n",
              "      <td>Eloise</td>\n",
              "      <td>No</td>\n",
              "      <td>Technology</td>\n",
              "      <td>0</td>\n",
              "      <td>27</td>\n",
              "      <td>0</td>\n",
              "      <td>567.0</td>\n",
              "      <td>16.0</td>\n",
              "      <td>4069.0</td>\n",
              "      <td>6244</td>\n",
              "    </tr>\n",
              "  </tbody>\n",
              "</table>\n",
              "</div>"
            ],
            "text/plain": [
              "         Product_id  Stall_no  ... Minimum_price  Maximum_price\n",
              "0  SCHE4YSTDVPVZVXW      39.0  ...        2576.0           3340\n",
              "1  ACCEGCATKHNRXUHW      49.0  ...        1202.0           1955\n",
              "2  NKCE6GJ5XVJDXNNZ       1.0  ...        7175.0          15715\n",
              "3  NKCEB8BK3ZXDHDHM       8.0  ...        5404.0          13078\n",
              "4  TOPEFDXSAHRNPF94      33.0  ...        4069.0           6244\n",
              "\n",
              "[5 rows x 14 columns]"
            ]
          },
          "metadata": {
            "tags": []
          },
          "execution_count": 9
        }
      ]
    },
    {
      "cell_type": "code",
      "metadata": {
        "colab": {
          "base_uri": "https://localhost:8080/",
          "height": 195
        },
        "id": "o1V3vLnyrqAk",
        "outputId": "fae2c420-16f9-4c29-d6a0-881375be3e78"
      },
      "source": [
        "sample.head()"
      ],
      "execution_count": null,
      "outputs": [
        {
          "output_type": "execute_result",
          "data": {
            "text/html": [
              "<div>\n",
              "<style scoped>\n",
              "    .dataframe tbody tr th:only-of-type {\n",
              "        vertical-align: middle;\n",
              "    }\n",
              "\n",
              "    .dataframe tbody tr th {\n",
              "        vertical-align: top;\n",
              "    }\n",
              "\n",
              "    .dataframe thead th {\n",
              "        text-align: right;\n",
              "    }\n",
              "</style>\n",
              "<table border=\"1\" class=\"dataframe\">\n",
              "  <thead>\n",
              "    <tr style=\"text-align: right;\">\n",
              "      <th></th>\n",
              "      <th>Product_id</th>\n",
              "      <th>Selling_Price</th>\n",
              "    </tr>\n",
              "  </thead>\n",
              "  <tbody>\n",
              "    <tr>\n",
              "      <th>0</th>\n",
              "      <td>SCHE4YSTDVPVZVXW</td>\n",
              "      <td>3294.594688</td>\n",
              "    </tr>\n",
              "    <tr>\n",
              "      <th>1</th>\n",
              "      <td>ACCEGCATKHNRXUHW</td>\n",
              "      <td>1945.603968</td>\n",
              "    </tr>\n",
              "    <tr>\n",
              "      <th>2</th>\n",
              "      <td>NKCE6GJ5XVJDXNNZ</td>\n",
              "      <td>11871.830880</td>\n",
              "    </tr>\n",
              "    <tr>\n",
              "      <th>3</th>\n",
              "      <td>NKCEB8BK3ZXDHDHM</td>\n",
              "      <td>9421.143424</td>\n",
              "    </tr>\n",
              "    <tr>\n",
              "      <th>4</th>\n",
              "      <td>TOPEFDXSAHRNPF94</td>\n",
              "      <td>5717.420625</td>\n",
              "    </tr>\n",
              "  </tbody>\n",
              "</table>\n",
              "</div>"
            ],
            "text/plain": [
              "         Product_id  Selling_Price\n",
              "0  SCHE4YSTDVPVZVXW    3294.594688\n",
              "1  ACCEGCATKHNRXUHW    1945.603968\n",
              "2  NKCE6GJ5XVJDXNNZ   11871.830880\n",
              "3  NKCEB8BK3ZXDHDHM    9421.143424\n",
              "4  TOPEFDXSAHRNPF94    5717.420625"
            ]
          },
          "metadata": {
            "tags": []
          },
          "execution_count": 10
        }
      ]
    },
    {
      "cell_type": "markdown",
      "metadata": {
        "id": "c2JUvxEmr39E"
      },
      "source": [
        "### Inspecting Train Set"
      ]
    },
    {
      "cell_type": "code",
      "metadata": {
        "id": "ILz4Jeisf97Q"
      },
      "source": [
        "# drop product id\n",
        "train.drop(labels=\"Product_id\",axis=1,inplace=True)"
      ],
      "execution_count": 4,
      "outputs": []
    },
    {
      "cell_type": "code",
      "metadata": {
        "id": "i_VzIIp9jynv"
      },
      "source": [
        "# Nan Plot\n",
        "def nan_plotter(dataset):\n",
        "  import matplotlib.pyplot as plt\n",
        "  nan_list=dict()\n",
        "  for i in dataset:\n",
        "    nan_list[i]=dataset[i].isnull().sum()\n",
        "  plt.figure(figsize=(15,5))\n",
        "  # creating the bar plot \n",
        "  plt.bar(list(nan_list.keys()), list(nan_list.values()), color ='lightblue',  \n",
        "          width = 0.3) \n",
        "  plt.xticks(rotation=90)\n",
        "  \n"
      ],
      "execution_count": 5,
      "outputs": []
    },
    {
      "cell_type": "code",
      "metadata": {
        "colab": {
          "base_uri": "https://localhost:8080/",
          "height": 398
        },
        "id": "OPbwhbuKnSN0",
        "outputId": "3f2a3d0c-4f5f-498d-8552-311aa3e2e091"
      },
      "source": [
        "nan_plotter(train)"
      ],
      "execution_count": 7,
      "outputs": [
        {
          "output_type": "display_data",
          "data": {
            "image/png": "[encoded data removed]",
            "text/plain": [
              "<Figure size 1080x360 with 1 Axes>"
            ]
          },
          "metadata": {
            "tags": [],
            "needs_background": "light"
          }
        }
      ]
    },
    {
      "cell_type": "code",
      "metadata": {
        "colab": {
          "base_uri": "https://localhost:8080/",
          "height": 398
        },
        "id": "NDM45LQZnkui",
        "outputId": "429702d1-1e17-45d0-903b-838c04d2ca04"
      },
      "source": [
        "nan_plotter(test)"
      ],
      "execution_count": null,
      "outputs": [
        {
          "output_type": "display_data",
          "data": {
            "image/png": "[encoded data removed]",
            "text/plain": [
              "<Figure size 1080x360 with 1 Axes>"
            ]
          },
          "metadata": {
            "tags": [],
            "needs_background": "light"
          }
        }
      ]
    },
    {
      "cell_type": "code",
      "metadata": {
        "id": "4--MWkq_LMYm"
      },
      "source": [
        "# Drop rows where Selling_price is nan\n",
        "train.dropna(axis=0,subset=[\"Selling_Price\"],inplace=True)"
      ],
      "execution_count": 6,
      "outputs": []
    },
    {
      "cell_type": "code",
      "metadata": {
        "colab": {
          "base_uri": "https://localhost:8080/",
          "height": 398
        },
        "id": "0DnVsBsQsIUT",
        "outputId": "6fb6cc15-67ea-41ec-d564-4db167c493bc"
      },
      "source": [
        "nan_plotter(train)"
      ],
      "execution_count": 9,
      "outputs": [
        {
          "output_type": "display_data",
          "data": {
            "image/png": "[encoded data removed]",
            "text/plain": [
              "<Figure size 1080x360 with 1 Axes>"
            ]
          },
          "metadata": {
            "tags": [],
            "needs_background": "light"
          }
        }
      ]
    },
    {
      "cell_type": "code",
      "metadata": {
        "id": "BykLU4QmsWiX"
      },
      "source": [
        "# As the Discount_avail, Minimum_price, Stall_no is very low nan\n",
        "train.dropna(axis=0,subset=[\"Discount_avail\",\"Minimum_price\",\"Stall_no\"],inplace=True)"
      ],
      "execution_count": 7,
      "outputs": []
    },
    {
      "cell_type": "code",
      "metadata": {
        "colab": {
          "base_uri": "https://localhost:8080/",
          "height": 401
        },
        "id": "PgH3lHeCs1Se",
        "outputId": "d4756d46-e650-49ec-d482-d70494d5fa03"
      },
      "source": [
        "nan_plotter(train)"
      ],
      "execution_count": 11,
      "outputs": [
        {
          "output_type": "display_data",
          "data": {
            "image/png": "[encoded data removed]",
            "text/plain": [
              "<Figure size 1080x360 with 1 Axes>"
            ]
          },
          "metadata": {
            "tags": [],
            "needs_background": "light"
          }
        }
      ]
    },
    {
      "cell_type": "code",
      "metadata": {
        "colab": {
          "base_uri": "https://localhost:8080/"
        },
        "id": "GVxRiDFDs3b5",
        "outputId": "f7a2129b-d577-4e28-c45c-0fdcca775a4f"
      },
      "source": [
        "# Counting unique in customer name\n",
        "len(train[\"Customer_name\"].unique())"
      ],
      "execution_count": 8,
      "outputs": [
        {
          "output_type": "execute_result",
          "data": {
            "text/plain": [
              "5799"
            ]
          },
          "metadata": {
            "tags": []
          },
          "execution_count": 8
        }
      ]
    },
    {
      "cell_type": "code",
      "metadata": {
        "id": "ELHBz3fbtLcu"
      },
      "source": [
        "# Dropping Customer_name\n",
        "train.drop(labels=\"Customer_name\",axis=1,inplace=True)"
      ],
      "execution_count": 9,
      "outputs": []
    },
    {
      "cell_type": "code",
      "metadata": {
        "colab": {
          "base_uri": "https://localhost:8080/"
        },
        "id": "8U5Uf9U1yzMH",
        "outputId": "105a8bb7-7e1b-4619-83f6-76c14397d3f0"
      },
      "source": [
        "len(train)"
      ],
      "execution_count": 13,
      "outputs": [
        {
          "output_type": "execute_result",
          "data": {
            "text/plain": [
              "6247"
            ]
          },
          "metadata": {
            "tags": []
          },
          "execution_count": 13
        }
      ]
    },
    {
      "cell_type": "code",
      "metadata": {
        "id": "hAgNo9JruH0W"
      },
      "source": [
        "train_2=train.copy()"
      ],
      "execution_count": 33,
      "outputs": []
    },
    {
      "cell_type": "code",
      "metadata": {
        "id": "-U8wtzsEWIHl"
      },
      "source": [
        "train_xp=train_2.copy()"
      ],
      "execution_count": 34,
      "outputs": []
    },
    {
      "cell_type": "code",
      "metadata": {
        "id": "FR06NH_6Dewf"
      },
      "source": [
        "# Finding presence of outlier\n",
        "train_xp.dropna(axis=0,subset=[\"Maximum_price\"],inplace=True)\n",
        "train_xp.dropna(axis=0,subset=[\"charges_1\"],inplace=True)\n",
        "train_xp.dropna(axis=0,subset=[\"charges_2 (%)\"],inplace=True)"
      ],
      "execution_count": 35,
      "outputs": []
    },
    {
      "cell_type": "code",
      "metadata": {
        "colab": {
          "base_uri": "https://localhost:8080/",
          "height": 398
        },
        "id": "LllFJ0VmE8gM",
        "outputId": "c8bf86d3-e902-4e6f-c70c-0f0099a654bf"
      },
      "source": [
        "nan_plotter(train_xp)"
      ],
      "execution_count": 36,
      "outputs": [
        {
          "output_type": "display_data",
          "data": {
            "image/png": "[encoded data removed]",
            "text/plain": [
              "<Figure size 1080x360 with 1 Axes>"
            ]
          },
          "metadata": {
            "tags": [],
            "needs_background": "light"
          }
        }
      ]
    },
    {
      "cell_type": "code",
      "metadata": {
        "id": "yBekZGk4DzA4"
      },
      "source": [
        "import numpy as np\n",
        "import pandas as pd\n",
        "\n",
        "def detect_outlier(data_1):\n",
        "    outliers={}\n",
        "    threshold=3\n",
        "    mean_1 = np.mean(data_1)\n",
        "    std_1 =np.std(data_1)\n",
        "    \n",
        "    \n",
        "    for idx,y in enumerate(data_1):\n",
        "        z_score= (y - mean_1)/std_1 \n",
        "        if np.abs(z_score) > threshold:\n",
        "            outliers[idx]=y\n",
        "    return outliers\n",
        "\n"
      ],
      "execution_count": 37,
      "outputs": []
    },
    {
      "cell_type": "code",
      "metadata": {
        "id": "SbND0OMiF2o4"
      },
      "source": [
        "out_max=detect_outlier(list(train_xp[\"Maximum_price\"]))"
      ],
      "execution_count": 38,
      "outputs": []
    },
    {
      "cell_type": "code",
      "metadata": {
        "id": "cR1M3NCvFkLP"
      },
      "source": [
        "out_ch1=detect_outlier(list(train_xp[\"charges_1\"]))"
      ],
      "execution_count": 39,
      "outputs": []
    },
    {
      "cell_type": "code",
      "metadata": {
        "id": "rjCozDoBT2uo"
      },
      "source": [
        "out_min=detect_outlier(list(train_xp[\"Minimum_price\"]))"
      ],
      "execution_count": 40,
      "outputs": []
    },
    {
      "cell_type": "code",
      "metadata": {
        "id": "TLq0m_vGUTVA"
      },
      "source": [
        "out_sel_p=detect_outlier(list(train_xp[\"Selling_Price\"]))"
      ],
      "execution_count": 41,
      "outputs": []
    },
    {
      "cell_type": "code",
      "metadata": {
        "id": "qpR6pfcxJLr4"
      },
      "source": [
        "# Data with same indexed outlier\n",
        "common=[]\n",
        "for i in list(out_ch1.keys()):\n",
        "  if i in list(out_max.keys()):\n",
        "    common.append(i)\n",
        "  else:\n",
        "    continue\n"
      ],
      "execution_count": 42,
      "outputs": []
    },
    {
      "cell_type": "code",
      "metadata": {
        "colab": {
          "base_uri": "https://localhost:8080/"
        },
        "id": "50enm2T0FkFt",
        "outputId": "f943fea9-a04d-44c6-8160-1fa8ca6e19eb"
      },
      "source": [
        "detect_outlier(list(train_xp[\"charges_2 (%)\"]))"
      ],
      "execution_count": 43,
      "outputs": [
        {
          "output_type": "execute_result",
          "data": {
            "text/plain": [
              "{}"
            ]
          },
          "metadata": {
            "tags": []
          },
          "execution_count": 43
        }
      ]
    },
    {
      "cell_type": "code",
      "metadata": {
        "id": "hpDKTBKWOubb"
      },
      "source": [
        "# getting index of oulier\n",
        "list_outlier=sorted(list(set(list(out_max.keys())+list(out_min.keys())+list(out_sel_p.keys()) + list(out_max.keys()))))"
      ],
      "execution_count": 44,
      "outputs": []
    },
    {
      "cell_type": "code",
      "metadata": {
        "colab": {
          "base_uri": "https://localhost:8080/"
        },
        "id": "h6CmiF6rTXMY",
        "outputId": "bb820df4-55b0-4fc0-a4cf-09ca998521eb"
      },
      "source": [
        "len(list_outlier)"
      ],
      "execution_count": 45,
      "outputs": [
        {
          "output_type": "execute_result",
          "data": {
            "text/plain": [
              "121"
            ]
          },
          "metadata": {
            "tags": []
          },
          "execution_count": 45
        }
      ]
    },
    {
      "cell_type": "code",
      "metadata": {
        "id": "j4DRJNI2Smjw"
      },
      "source": [
        "# dropping outlier row\n",
        "train_xp.drop(train_xp.index[list_outlier],inplace=True)"
      ],
      "execution_count": 46,
      "outputs": []
    },
    {
      "cell_type": "code",
      "metadata": {
        "colab": {
          "base_uri": "https://localhost:8080/"
        },
        "id": "lLG_ptTtTRcn",
        "outputId": "66fc0c6e-0125-4174-9b11-3d43a045d6fc"
      },
      "source": [
        "len(train_xp)"
      ],
      "execution_count": 47,
      "outputs": [
        {
          "output_type": "execute_result",
          "data": {
            "text/plain": [
              "5449"
            ]
          },
          "metadata": {
            "tags": []
          },
          "execution_count": 47
        }
      ]
    },
    {
      "cell_type": "code",
      "metadata": {
        "id": "Y3ytbfTNBQPd"
      },
      "source": [
        "# Filling up nan\n",
        "# maximum_price has outlier, charges_1 has outlier \n",
        "#charges_2 (%) has no outlier \n",
        "train_xp['charges_2 (%)']=train_xp['charges_2 (%)'].fillna(train_xp['charges_2 (%)'].mean()).astype(int)\n",
        "train_xp['charges_1']=train_xp['charges_1'].fillna(train_xp['charges_1'].median()).astype(int)\n",
        "train_xp['Maximum_price']=train_xp['Maximum_price'].fillna(train_xp['Maximum_price'].median()).astype(int)"
      ],
      "execution_count": 48,
      "outputs": []
    },
    {
      "cell_type": "code",
      "metadata": {
        "colab": {
          "base_uri": "https://localhost:8080/",
          "height": 398
        },
        "id": "cQg-6v89LRMj",
        "outputId": "17de71b6-a893-4cf2-898f-64fc7045b9c9"
      },
      "source": [
        "nan_plotter(train_xp)"
      ],
      "execution_count": 49,
      "outputs": [
        {
          "output_type": "display_data",
          "data": {
            "image/png": "[encoded data removed]",
            "text/plain": [
              "<Figure size 1080x360 with 1 Axes>"
            ]
          },
          "metadata": {
            "tags": [],
            "needs_background": "light"
          }
        }
      ]
    },
    {
      "cell_type": "code",
      "metadata": {
        "id": "0_n9-yanfq4Z"
      },
      "source": [
        "# Unique counter\n",
        "def unique_counter(dataset):\n",
        "  uni=[]\n",
        "  for i in dataset:\n",
        "    uni.append((i,len(dataset[i].unique())))\n",
        "  return uni"
      ],
      "execution_count": 50,
      "outputs": []
    },
    {
      "cell_type": "code",
      "metadata": {
        "colab": {
          "base_uri": "https://localhost:8080/"
        },
        "id": "4NUP3zRsuAhH",
        "outputId": "3327199e-fa05-452c-84e7-1823ed237f1b"
      },
      "source": [
        "unique_counter(train_xp)"
      ],
      "execution_count": 51,
      "outputs": [
        {
          "output_type": "execute_result",
          "data": {
            "text/plain": [
              "[('Stall_no', 50),\n",
              " ('instock_date', 4714),\n",
              " ('Market_Category', 237),\n",
              " ('Loyalty_customer', 2),\n",
              " ('Product_Category', 10),\n",
              " ('Grade', 4),\n",
              " ('Demand', 100),\n",
              " ('Discount_avail', 2),\n",
              " ('charges_1', 480),\n",
              " ('charges_2 (%)', 17),\n",
              " ('Minimum_price', 3804),\n",
              " ('Maximum_price', 4231),\n",
              " ('Selling_Price', 5446)]"
            ]
          },
          "metadata": {
            "tags": []
          },
          "execution_count": 51
        }
      ]
    },
    {
      "cell_type": "markdown",
      "metadata": {
        "id": "XkNOXKy2eK6M"
      },
      "source": [
        "### **Noticing Categorical Data**\n",
        "1. Stall_no\n",
        "2. Market_Category\n",
        "3. Grade\n",
        "4. Loyalty_customer\n",
        "5. Product_Category\n",
        "6. Discount_avail"
      ]
    },
    {
      "cell_type": "code",
      "metadata": {
        "id": "xYb8NKsBYij2"
      },
      "source": [
        "from sklearn.preprocessing import LabelEncoder\n",
        "le=LabelEncoder()\n",
        "train_xp['Loyalty_customer']=le.fit_transform(train_xp['Loyalty_customer'])\n",
        "\n",
        "#test_data['Loyalty_customer']=le.fit_transform(test_data['Loyalty_customer'])\n"
      ],
      "execution_count": 52,
      "outputs": []
    },
    {
      "cell_type": "code",
      "metadata": {
        "id": "q24Fp_yjZcko"
      },
      "source": [
        "product=train_xp[['Product_Category']]\n",
        "product=pd.get_dummies(product,drop_first=True)"
      ],
      "execution_count": 53,
      "outputs": []
    },
    {
      "cell_type": "code",
      "metadata": {
        "id": "Pgn_tRI4Z3zB"
      },
      "source": [
        "train_xp=pd.concat([train_xp,product],axis=1)"
      ],
      "execution_count": 55,
      "outputs": []
    },
    {
      "cell_type": "code",
      "metadata": {
        "id": "5uzYWuQhYicE"
      },
      "source": [
        "train_xp.drop(['Product_Category'],axis=1,inplace=True)"
      ],
      "execution_count": 56,
      "outputs": []
    },
    {
      "cell_type": "code",
      "metadata": {
        "id": "MUJWWbP3YiOm"
      },
      "source": [
        "train_xp.drop(['instock_date'],axis=1,inplace=True)"
      ],
      "execution_count": 58,
      "outputs": []
    },
    {
      "cell_type": "code",
      "metadata": {
        "colab": {
          "base_uri": "https://localhost:8080/",
          "height": 232
        },
        "id": "QLMWPXfqYiVP",
        "outputId": "ea949adc-6e88-4223-94e6-8df949084d49"
      },
      "source": [
        "train_xp.head()"
      ],
      "execution_count": 60,
      "outputs": [
        {
          "output_type": "execute_result",
          "data": {
            "text/html": [
              "<div>\n",
              "<style scoped>\n",
              "    .dataframe tbody tr th:only-of-type {\n",
              "        vertical-align: middle;\n",
              "    }\n",
              "\n",
              "    .dataframe tbody tr th {\n",
              "        vertical-align: top;\n",
              "    }\n",
              "\n",
              "    .dataframe thead th {\n",
              "        text-align: right;\n",
              "    }\n",
              "</style>\n",
              "<table border=\"1\" class=\"dataframe\">\n",
              "  <thead>\n",
              "    <tr style=\"text-align: right;\">\n",
              "      <th></th>\n",
              "      <th>Stall_no</th>\n",
              "      <th>Market_Category</th>\n",
              "      <th>Loyalty_customer</th>\n",
              "      <th>Grade</th>\n",
              "      <th>Demand</th>\n",
              "      <th>Discount_avail</th>\n",
              "      <th>charges_1</th>\n",
              "      <th>charges_2 (%)</th>\n",
              "      <th>Minimum_price</th>\n",
              "      <th>Maximum_price</th>\n",
              "      <th>Selling_Price</th>\n",
              "      <th>Product_Category_Cosmetics</th>\n",
              "      <th>Product_Category_Educational</th>\n",
              "      <th>Product_Category_Fashion</th>\n",
              "      <th>Product_Category_Home_decor</th>\n",
              "      <th>Product_Category_Hospitality</th>\n",
              "      <th>Product_Category_Organic</th>\n",
              "      <th>Product_Category_Pet_care</th>\n",
              "      <th>Product_Category_Repair</th>\n",
              "      <th>Product_Category_Technology</th>\n",
              "    </tr>\n",
              "  </thead>\n",
              "  <tbody>\n",
              "    <tr>\n",
              "      <th>0</th>\n",
              "      <td>37.0</td>\n",
              "      <td>2</td>\n",
              "      <td>1</td>\n",
              "      <td>1</td>\n",
              "      <td>68</td>\n",
              "      <td>0.0</td>\n",
              "      <td>376</td>\n",
              "      <td>11</td>\n",
              "      <td>2983.0</td>\n",
              "      <td>4713</td>\n",
              "      <td>4185.947700</td>\n",
              "      <td>0</td>\n",
              "      <td>0</td>\n",
              "      <td>1</td>\n",
              "      <td>0</td>\n",
              "      <td>0</td>\n",
              "      <td>0</td>\n",
              "      <td>0</td>\n",
              "      <td>0</td>\n",
              "      <td>0</td>\n",
              "    </tr>\n",
              "    <tr>\n",
              "      <th>1</th>\n",
              "      <td>38.0</td>\n",
              "      <td>24</td>\n",
              "      <td>1</td>\n",
              "      <td>0</td>\n",
              "      <td>51</td>\n",
              "      <td>0.0</td>\n",
              "      <td>397</td>\n",
              "      <td>12</td>\n",
              "      <td>7495.0</td>\n",
              "      <td>10352</td>\n",
              "      <td>9271.490256</td>\n",
              "      <td>0</td>\n",
              "      <td>0</td>\n",
              "      <td>1</td>\n",
              "      <td>0</td>\n",
              "      <td>0</td>\n",
              "      <td>0</td>\n",
              "      <td>0</td>\n",
              "      <td>0</td>\n",
              "      <td>0</td>\n",
              "    </tr>\n",
              "    <tr>\n",
              "      <th>2</th>\n",
              "      <td>9.0</td>\n",
              "      <td>447</td>\n",
              "      <td>1</td>\n",
              "      <td>0</td>\n",
              "      <td>10</td>\n",
              "      <td>0.0</td>\n",
              "      <td>250</td>\n",
              "      <td>9</td>\n",
              "      <td>5752.0</td>\n",
              "      <td>7309</td>\n",
              "      <td>6785.701362</td>\n",
              "      <td>0</td>\n",
              "      <td>0</td>\n",
              "      <td>0</td>\n",
              "      <td>0</td>\n",
              "      <td>0</td>\n",
              "      <td>0</td>\n",
              "      <td>0</td>\n",
              "      <td>0</td>\n",
              "      <td>0</td>\n",
              "    </tr>\n",
              "    <tr>\n",
              "      <th>4</th>\n",
              "      <td>7.0</td>\n",
              "      <td>63</td>\n",
              "      <td>1</td>\n",
              "      <td>1</td>\n",
              "      <td>35</td>\n",
              "      <td>1.0</td>\n",
              "      <td>211</td>\n",
              "      <td>4</td>\n",
              "      <td>2430.0</td>\n",
              "      <td>9261</td>\n",
              "      <td>906.553935</td>\n",
              "      <td>0</td>\n",
              "      <td>0</td>\n",
              "      <td>0</td>\n",
              "      <td>0</td>\n",
              "      <td>0</td>\n",
              "      <td>0</td>\n",
              "      <td>0</td>\n",
              "      <td>1</td>\n",
              "      <td>0</td>\n",
              "    </tr>\n",
              "    <tr>\n",
              "      <th>5</th>\n",
              "      <td>23.0</td>\n",
              "      <td>162</td>\n",
              "      <td>0</td>\n",
              "      <td>1</td>\n",
              "      <td>49</td>\n",
              "      <td>0.0</td>\n",
              "      <td>633</td>\n",
              "      <td>6</td>\n",
              "      <td>3959.0</td>\n",
              "      <td>6104</td>\n",
              "      <td>5631.247872</td>\n",
              "      <td>0</td>\n",
              "      <td>0</td>\n",
              "      <td>0</td>\n",
              "      <td>0</td>\n",
              "      <td>0</td>\n",
              "      <td>0</td>\n",
              "      <td>0</td>\n",
              "      <td>0</td>\n",
              "      <td>1</td>\n",
              "    </tr>\n",
              "  </tbody>\n",
              "</table>\n",
              "</div>"
            ],
            "text/plain": [
              "   Stall_no  ...  Product_Category_Technology\n",
              "0      37.0  ...                            0\n",
              "1      38.0  ...                            0\n",
              "2       9.0  ...                            0\n",
              "4       7.0  ...                            0\n",
              "5      23.0  ...                            1\n",
              "\n",
              "[5 rows x 20 columns]"
            ]
          },
          "metadata": {
            "tags": []
          },
          "execution_count": 60
        }
      ]
    },
    {
      "cell_type": "code",
      "metadata": {
        "id": "eOmieWMjYiHL"
      },
      "source": [
        "from sklearn.model_selection import train_test_split\n",
        "X_train,X_test,y_train,y_test=train_test_split(train_xp,train_xp[\"Selling_Price\"],test_size=0.1,random_state=10)"
      ],
      "execution_count": 61,
      "outputs": []
    },
    {
      "cell_type": "code",
      "metadata": {
        "colab": {
          "base_uri": "https://localhost:8080/"
        },
        "id": "AwF1AZY6Yh41",
        "outputId": "19146f86-7dd5-4ce3-ee94-832d91d152e1"
      },
      "source": [
        "from sklearn.ensemble import RandomForestRegressor\n",
        "reg = RandomForestRegressor(max_depth = 15, random_state=0,n_estimators = 100,verbose = 1)\n",
        "reg.fit(X_train,y_train)"
      ],
      "execution_count": 64,
      "outputs": [
        {
          "output_type": "stream",
          "text": [
            "[Parallel(n_jobs=1)]: Using backend SequentialBackend with 1 concurrent workers.\n",
            "[Parallel(n_jobs=1)]: Done 100 out of 100 | elapsed:    3.0s finished\n"
          ],
          "name": "stderr"
        },
        {
          "output_type": "execute_result",
          "data": {
            "text/plain": [
              "RandomForestRegressor(bootstrap=True, ccp_alpha=0.0, criterion='mse',\n",
              "                      max_depth=15, max_features='auto', max_leaf_nodes=None,\n",
              "                      max_samples=None, min_impurity_decrease=0.0,\n",
              "                      min_impurity_split=None, min_samples_leaf=1,\n",
              "                      min_samples_split=2, min_weight_fraction_leaf=0.0,\n",
              "                      n_estimators=100, n_jobs=None, oob_score=False,\n",
              "                      random_state=0, verbose=1, warm_start=False)"
            ]
          },
          "metadata": {
            "tags": []
          },
          "execution_count": 64
        }
      ]
    },
    {
      "cell_type": "code",
      "metadata": {
        "colab": {
          "base_uri": "https://localhost:8080/"
        },
        "id": "Xkqt-OZLbCq-",
        "outputId": "97372ee8-a755-4c95-88d6-f977035d9706"
      },
      "source": [
        "reg.score(X_train,y_train)"
      ],
      "execution_count": 65,
      "outputs": [
        {
          "output_type": "stream",
          "text": [
            "[Parallel(n_jobs=1)]: Using backend SequentialBackend with 1 concurrent workers.\n",
            "[Parallel(n_jobs=1)]: Done 100 out of 100 | elapsed:    0.1s finished\n"
          ],
          "name": "stderr"
        },
        {
          "output_type": "execute_result",
          "data": {
            "text/plain": [
              "0.9999888463235307"
            ]
          },
          "metadata": {
            "tags": []
          },
          "execution_count": 65
        }
      ]
    },
    {
      "cell_type": "code",
      "metadata": {
        "colab": {
          "base_uri": "https://localhost:8080/"
        },
        "id": "O9ENBEg1bCiq",
        "outputId": "dd62754a-d288-44a0-cac8-a783c40243de"
      },
      "source": [
        "y_pred=reg.predict(X_test)"
      ],
      "execution_count": 66,
      "outputs": [
        {
          "output_type": "stream",
          "text": [
            "[Parallel(n_jobs=1)]: Using backend SequentialBackend with 1 concurrent workers.\n",
            "[Parallel(n_jobs=1)]: Done 100 out of 100 | elapsed:    0.0s finished\n"
          ],
          "name": "stderr"
        }
      ]
    },
    {
      "cell_type": "code",
      "metadata": {
        "id": "syxtVrMYbCa4"
      },
      "source": [
        "from sklearn.metrics import r2_score\n",
        "rsquare=r2_score(y_test,y_pred)"
      ],
      "execution_count": 67,
      "outputs": []
    },
    {
      "cell_type": "code",
      "metadata": {
        "colab": {
          "base_uri": "https://localhost:8080/"
        },
        "id": "hV3ZYI7lbCS2",
        "outputId": "d0bb85cb-0048-497c-9ab1-1d73b262d236"
      },
      "source": [
        "rsquare"
      ],
      "execution_count": 68,
      "outputs": [
        {
          "output_type": "execute_result",
          "data": {
            "text/plain": [
              "0.9999403539700609"
            ]
          },
          "metadata": {
            "tags": []
          },
          "execution_count": 68
        }
      ]
    },
    {
      "cell_type": "code",
      "metadata": {
        "colab": {
          "base_uri": "https://localhost:8080/"
        },
        "id": "WnNxXdDUbCJ1",
        "outputId": "680591a0-9276-4864-e8c3-f85678b2b240"
      },
      "source": [
        "from sklearn.metrics import mean_squared_error as MSE\n",
        "import numpy as np\n",
        " \n",
        "rmse = np.sqrt(MSE(y_test,y_pred)) \n",
        "print(\"RMSE : % f\" %(rmse)) "
      ],
      "execution_count": 69,
      "outputs": [
        {
          "output_type": "stream",
          "text": [
            "RMSE :  21.053910\n"
          ],
          "name": "stdout"
        }
      ]
    },
    {
      "cell_type": "code",
      "metadata": {
        "id": "83-gQ3Oabk3F"
      },
      "source": [
        "import pickle\n",
        "Pkl_Filename = \"/content/drive/MyDrive/Hackathon/HackerEarth Machine Learning Challenge: Carnival Wars/Pickle_rfreg_Model.pkl\"  \n",
        "\n",
        "with open(Pkl_Filename, 'wb') as file:  \n",
        "    pickle.dump(reg, file)"
      ],
      "execution_count": 72,
      "outputs": []
    },
    {
      "cell_type": "code",
      "metadata": {
        "id": "m9HsbXPjbkvM"
      },
      "source": [
        "# Load the Model back from file\n",
        "Pkl_Filename = \"/content/drive/MyDrive/Hackathon/HackerEarth Machine Learning Challenge: Carnival Wars/Pickle_rfreg_Model.pkl\"  \n",
        "with open(Pkl_Filename, 'rb') as file:  \n",
        "    Pickled_LR_Model = pickle.load(file)\n",
        "\n"
      ],
      "execution_count": null,
      "outputs": []
    },
    {
      "cell_type": "markdown",
      "metadata": {
        "id": "PI1lQCQLejT7"
      },
      "source": [
        "### **Test Data**"
      ]
    },
    {
      "cell_type": "code",
      "metadata": {
        "id": "okWC2YUAeosi"
      },
      "source": [
        ""
      ],
      "execution_count": null,
      "outputs": []
    },
    {
      "cell_type": "code",
      "metadata": {
        "id": "LM1HCPVWepWv"
      },
      "source": [
        ""
      ],
      "execution_count": null,
      "outputs": []
    },
    {
      "cell_type": "code",
      "metadata": {
        "id": "Ps3tzHpdeo4X"
      },
      "source": [
        ""
      ],
      "execution_count": null,
      "outputs": []
    },
    {
      "cell_type": "code",
      "metadata": {
        "id": "gw056bP5bkmo"
      },
      "source": [
        ""
      ],
      "execution_count": null,
      "outputs": []
    },
    {
      "cell_type": "code",
      "metadata": {
        "id": "q15JlECDbkdX"
      },
      "source": [
        ""
      ],
      "execution_count": null,
      "outputs": []
    },
    {
      "cell_type": "markdown",
      "metadata": {
        "id": "xyeugQewaMxU"
      },
      "source": [
        "## **-----------------------------------------------------------------------------------------------------------------**"
      ]
    },
    {
      "cell_type": "code",
      "metadata": {
        "colab": {
          "base_uri": "https://localhost:8080/"
        },
        "id": "Rv1DXk9Q8_2k",
        "outputId": "6ddb45c9-ede0-4709-e3ad-d877e54eda12"
      },
      "source": [
        "! pip install category_encoders"
      ],
      "execution_count": null,
      "outputs": [
        {
          "output_type": "stream",
          "text": [
            "Collecting category_encoders\n",
            "\u001b[?25l  Downloading https://files.pythonhosted.org/packages/44/57/fcef41c248701ee62e8325026b90c432adea35555cbc870aff9cfba23727/category_encoders-2.2.2-py2.py3-none-any.whl (80kB)\n",
            "\r\u001b[K     |████                            | 10kB 13.6MB/s eta 0:00:01\r\u001b[K     |████████▏                       | 20kB 15.0MB/s eta 0:00:01\r\u001b[K     |████████████▏                   | 30kB 9.6MB/s eta 0:00:01\r\u001b[K     |████████████████▎               | 40kB 8.1MB/s eta 0:00:01\r\u001b[K     |████████████████████▎           | 51kB 5.2MB/s eta 0:00:01\r\u001b[K     |████████████████████████▍       | 61kB 5.6MB/s eta 0:00:01\r\u001b[K     |████████████████████████████▍   | 71kB 5.8MB/s eta 0:00:01\r\u001b[K     |████████████████████████████████| 81kB 3.9MB/s \n",
            "\u001b[?25hRequirement already satisfied: numpy>=1.14.0 in /usr/local/lib/python3.6/dist-packages (from category_encoders) (1.18.5)\n",
            "Requirement already satisfied: statsmodels>=0.9.0 in /usr/local/lib/python3.6/dist-packages (from category_encoders) (0.10.2)\n",
            "Requirement already satisfied: pandas>=0.21.1 in /usr/local/lib/python3.6/dist-packages (from category_encoders) (1.1.4)\n",
            "Requirement already satisfied: scipy>=1.0.0 in /usr/local/lib/python3.6/dist-packages (from category_encoders) (1.4.1)\n",
            "Requirement already satisfied: patsy>=0.5.1 in /usr/local/lib/python3.6/dist-packages (from category_encoders) (0.5.1)\n",
            "Requirement already satisfied: scikit-learn>=0.20.0 in /usr/local/lib/python3.6/dist-packages (from category_encoders) (0.22.2.post1)\n",
            "Requirement already satisfied: pytz>=2017.2 in /usr/local/lib/python3.6/dist-packages (from pandas>=0.21.1->category_encoders) (2018.9)\n",
            "Requirement already satisfied: python-dateutil>=2.7.3 in /usr/local/lib/python3.6/dist-packages (from pandas>=0.21.1->category_encoders) (2.8.1)\n",
            "Requirement already satisfied: six in /usr/local/lib/python3.6/dist-packages (from patsy>=0.5.1->category_encoders) (1.15.0)\n",
            "Requirement already satisfied: joblib>=0.11 in /usr/local/lib/python3.6/dist-packages (from scikit-learn>=0.20.0->category_encoders) (0.17.0)\n",
            "Installing collected packages: category-encoders\n",
            "Successfully installed category-encoders-2.2.2\n"
          ],
          "name": "stdout"
        }
      ]
    },
    {
      "cell_type": "code",
      "metadata": {
        "id": "GFZu5O4c64Nt"
      },
      "source": [
        "import category_encoders as ce"
      ],
      "execution_count": null,
      "outputs": []
    },
    {
      "cell_type": "code",
      "metadata": {
        "colab": {
          "base_uri": "https://localhost:8080/"
        },
        "id": "pFldVKB99KK8",
        "outputId": "a6717983-65e0-48d2-e964-0a49bda9f2f4"
      },
      "source": [
        "cat_features=[\"Stall_no\",\"Market_Category\",\"Grade\",\"Loyalty_customer\",\"Product_Category\",\"Discount_avail\"]\n",
        "# Create the encoder\n",
        "target_enc = ce.CatBoostEncoder(cols=cat_features)\n",
        "target_enc.fit(train_xp[cat_features], train_xp['Selling_Price'])\n",
        "\n",
        "# Transform the features, rename columns with _cb suffix, and join to dataframe\n",
        "train_CBE = train_xp.join(target_enc.transform(train_xp[cat_features]).add_suffix('_cb'))\n",
        "#valid_CBE = valid.join(target_enc.transform(valid[cat_features]).add_suffix('_cb'))\n",
        "\n",
        "# Train a model\n",
        "#train_model(train_CBE, valid_CBE)"
      ],
      "execution_count": null,
      "outputs": [
        {
          "output_type": "stream",
          "text": [
            "/usr/local/lib/python3.6/dist-packages/category_encoders/utils.py:21: FutureWarning: is_categorical is deprecated and will be removed in a future version.  Use is_categorical_dtype instead\n",
            "  elif pd.api.types.is_categorical(cols):\n"
          ],
          "name": "stderr"
        }
      ]
    },
    {
      "cell_type": "code",
      "metadata": {
        "colab": {
          "base_uri": "https://localhost:8080/",
          "height": 316
        },
        "id": "Danv6L8E-Hqk",
        "outputId": "d59a1d91-e3ca-466b-9eef-217b2621c343"
      },
      "source": [
        "train_CBE.head()"
      ],
      "execution_count": null,
      "outputs": [
        {
          "output_type": "execute_result",
          "data": {
            "text/html": [
              "<div>\n",
              "<style scoped>\n",
              "    .dataframe tbody tr th:only-of-type {\n",
              "        vertical-align: middle;\n",
              "    }\n",
              "\n",
              "    .dataframe tbody tr th {\n",
              "        vertical-align: top;\n",
              "    }\n",
              "\n",
              "    .dataframe thead th {\n",
              "        text-align: right;\n",
              "    }\n",
              "</style>\n",
              "<table border=\"1\" class=\"dataframe\">\n",
              "  <thead>\n",
              "    <tr style=\"text-align: right;\">\n",
              "      <th></th>\n",
              "      <th>Stall_no</th>\n",
              "      <th>instock_date</th>\n",
              "      <th>Market_Category</th>\n",
              "      <th>Loyalty_customer</th>\n",
              "      <th>Product_Category</th>\n",
              "      <th>Grade</th>\n",
              "      <th>Demand</th>\n",
              "      <th>Discount_avail</th>\n",
              "      <th>charges_1</th>\n",
              "      <th>charges_2 (%)</th>\n",
              "      <th>Minimum_price</th>\n",
              "      <th>Maximum_price</th>\n",
              "      <th>Selling_Price</th>\n",
              "      <th>Stall_no_cb</th>\n",
              "      <th>Market_Category_cb</th>\n",
              "      <th>Grade_cb</th>\n",
              "      <th>Loyalty_customer_cb</th>\n",
              "      <th>Product_Category_cb</th>\n",
              "      <th>Discount_avail_cb</th>\n",
              "    </tr>\n",
              "  </thead>\n",
              "  <tbody>\n",
              "    <tr>\n",
              "      <th>0</th>\n",
              "      <td>37.0</td>\n",
              "      <td>2015-08-22 18:36:12.000</td>\n",
              "      <td>2</td>\n",
              "      <td>Yes</td>\n",
              "      <td>Fashion</td>\n",
              "      <td>1</td>\n",
              "      <td>68</td>\n",
              "      <td>0.0</td>\n",
              "      <td>376.0</td>\n",
              "      <td>11.0</td>\n",
              "      <td>2983.0</td>\n",
              "      <td>4713.0</td>\n",
              "      <td>4185.947700</td>\n",
              "      <td>4413.790140</td>\n",
              "      <td>5637.222917</td>\n",
              "      <td>5791.361541</td>\n",
              "      <td>4800.125993</td>\n",
              "      <td>4869.622354</td>\n",
              "      <td>5188.600287</td>\n",
              "    </tr>\n",
              "    <tr>\n",
              "      <th>1</th>\n",
              "      <td>38.0</td>\n",
              "      <td>2016-03-27 21:19:13.000</td>\n",
              "      <td>24</td>\n",
              "      <td>Yes</td>\n",
              "      <td>Fashion</td>\n",
              "      <td>0</td>\n",
              "      <td>51</td>\n",
              "      <td>0.0</td>\n",
              "      <td>397.0</td>\n",
              "      <td>12.0</td>\n",
              "      <td>7495.0</td>\n",
              "      <td>10352.0</td>\n",
              "      <td>9271.490256</td>\n",
              "      <td>4485.679672</td>\n",
              "      <td>5568.997872</td>\n",
              "      <td>4400.499091</td>\n",
              "      <td>4800.125993</td>\n",
              "      <td>4869.622354</td>\n",
              "      <td>5188.600287</td>\n",
              "    </tr>\n",
              "    <tr>\n",
              "      <th>2</th>\n",
              "      <td>9.0</td>\n",
              "      <td>2015-08-18 19:25:22.000</td>\n",
              "      <td>447</td>\n",
              "      <td>Yes</td>\n",
              "      <td>Child_care</td>\n",
              "      <td>0</td>\n",
              "      <td>10</td>\n",
              "      <td>0.0</td>\n",
              "      <td>250.0</td>\n",
              "      <td>9.0</td>\n",
              "      <td>5752.0</td>\n",
              "      <td>7309.0</td>\n",
              "      <td>6785.701362</td>\n",
              "      <td>4609.318627</td>\n",
              "      <td>4763.594106</td>\n",
              "      <td>4400.499091</td>\n",
              "      <td>4800.125993</td>\n",
              "      <td>4590.801350</td>\n",
              "      <td>5188.600287</td>\n",
              "    </tr>\n",
              "    <tr>\n",
              "      <th>3</th>\n",
              "      <td>50.0</td>\n",
              "      <td>2016-03-28 21:53:01.000</td>\n",
              "      <td>23</td>\n",
              "      <td>Yes</td>\n",
              "      <td>Educational</td>\n",
              "      <td>2</td>\n",
              "      <td>48</td>\n",
              "      <td>0.0</td>\n",
              "      <td>144.0</td>\n",
              "      <td>13.0</td>\n",
              "      <td>5090.0</td>\n",
              "      <td>20814.0</td>\n",
              "      <td>13028.917824</td>\n",
              "      <td>4687.316428</td>\n",
              "      <td>4738.650968</td>\n",
              "      <td>4177.002125</td>\n",
              "      <td>4800.125993</td>\n",
              "      <td>4307.270298</td>\n",
              "      <td>5188.600287</td>\n",
              "    </tr>\n",
              "    <tr>\n",
              "      <th>4</th>\n",
              "      <td>7.0</td>\n",
              "      <td>2016-03-29 22:58:53.000</td>\n",
              "      <td>63</td>\n",
              "      <td>Yes</td>\n",
              "      <td>Repair</td>\n",
              "      <td>1</td>\n",
              "      <td>35</td>\n",
              "      <td>1.0</td>\n",
              "      <td>211.0</td>\n",
              "      <td>4.0</td>\n",
              "      <td>2430.0</td>\n",
              "      <td>9261.0</td>\n",
              "      <td>906.553935</td>\n",
              "      <td>4730.825112</td>\n",
              "      <td>6274.754316</td>\n",
              "      <td>5791.361541</td>\n",
              "      <td>4800.125993</td>\n",
              "      <td>4629.362965</td>\n",
              "      <td>785.778242</td>\n",
              "    </tr>\n",
              "  </tbody>\n",
              "</table>\n",
              "</div>"
            ],
            "text/plain": [
              "   Stall_no             instock_date  ...  Product_Category_cb Discount_avail_cb\n",
              "0      37.0  2015-08-22 18:36:12.000  ...          4869.622354       5188.600287\n",
              "1      38.0  2016-03-27 21:19:13.000  ...          4869.622354       5188.600287\n",
              "2       9.0  2015-08-18 19:25:22.000  ...          4590.801350       5188.600287\n",
              "3      50.0  2016-03-28 21:53:01.000  ...          4307.270298       5188.600287\n",
              "4       7.0  2016-03-29 22:58:53.000  ...          4629.362965        785.778242\n",
              "\n",
              "[5 rows x 19 columns]"
            ]
          },
          "metadata": {
            "tags": []
          },
          "execution_count": 51
        }
      ]
    },
    {
      "cell_type": "code",
      "metadata": {
        "id": "rpzPTyo--J-Q"
      },
      "source": [
        "# Dropping Customer_name\n",
        "train_CBE.drop(labels=[\"instock_date\",\"Stall_no\",\"Market_Category\",\"Grade\",\"Loyalty_customer\",\"Product_Category\",\"Discount_avail\"],axis=1,inplace=True)"
      ],
      "execution_count": null,
      "outputs": []
    },
    {
      "cell_type": "code",
      "metadata": {
        "colab": {
          "base_uri": "https://localhost:8080/",
          "height": 212
        },
        "id": "vozbqDbY_CnJ",
        "outputId": "af7a7cf6-2e07-4378-898e-054707b56ea5"
      },
      "source": [
        "train_CBE.head()"
      ],
      "execution_count": null,
      "outputs": [
        {
          "output_type": "execute_result",
          "data": {
            "text/html": [
              "<div>\n",
              "<style scoped>\n",
              "    .dataframe tbody tr th:only-of-type {\n",
              "        vertical-align: middle;\n",
              "    }\n",
              "\n",
              "    .dataframe tbody tr th {\n",
              "        vertical-align: top;\n",
              "    }\n",
              "\n",
              "    .dataframe thead th {\n",
              "        text-align: right;\n",
              "    }\n",
              "</style>\n",
              "<table border=\"1\" class=\"dataframe\">\n",
              "  <thead>\n",
              "    <tr style=\"text-align: right;\">\n",
              "      <th></th>\n",
              "      <th>Demand</th>\n",
              "      <th>charges_1</th>\n",
              "      <th>charges_2 (%)</th>\n",
              "      <th>Minimum_price</th>\n",
              "      <th>Maximum_price</th>\n",
              "      <th>Selling_Price</th>\n",
              "      <th>Stall_no_cb</th>\n",
              "      <th>Market_Category_cb</th>\n",
              "      <th>Grade_cb</th>\n",
              "      <th>Loyalty_customer_cb</th>\n",
              "      <th>Product_Category_cb</th>\n",
              "      <th>Discount_avail_cb</th>\n",
              "    </tr>\n",
              "  </thead>\n",
              "  <tbody>\n",
              "    <tr>\n",
              "      <th>0</th>\n",
              "      <td>68</td>\n",
              "      <td>376.0</td>\n",
              "      <td>11.0</td>\n",
              "      <td>2983.0</td>\n",
              "      <td>4713.0</td>\n",
              "      <td>4185.947700</td>\n",
              "      <td>4413.790140</td>\n",
              "      <td>5637.222917</td>\n",
              "      <td>5791.361541</td>\n",
              "      <td>4800.125993</td>\n",
              "      <td>4869.622354</td>\n",
              "      <td>5188.600287</td>\n",
              "    </tr>\n",
              "    <tr>\n",
              "      <th>1</th>\n",
              "      <td>51</td>\n",
              "      <td>397.0</td>\n",
              "      <td>12.0</td>\n",
              "      <td>7495.0</td>\n",
              "      <td>10352.0</td>\n",
              "      <td>9271.490256</td>\n",
              "      <td>4485.679672</td>\n",
              "      <td>5568.997872</td>\n",
              "      <td>4400.499091</td>\n",
              "      <td>4800.125993</td>\n",
              "      <td>4869.622354</td>\n",
              "      <td>5188.600287</td>\n",
              "    </tr>\n",
              "    <tr>\n",
              "      <th>2</th>\n",
              "      <td>10</td>\n",
              "      <td>250.0</td>\n",
              "      <td>9.0</td>\n",
              "      <td>5752.0</td>\n",
              "      <td>7309.0</td>\n",
              "      <td>6785.701362</td>\n",
              "      <td>4609.318627</td>\n",
              "      <td>4763.594106</td>\n",
              "      <td>4400.499091</td>\n",
              "      <td>4800.125993</td>\n",
              "      <td>4590.801350</td>\n",
              "      <td>5188.600287</td>\n",
              "    </tr>\n",
              "    <tr>\n",
              "      <th>3</th>\n",
              "      <td>48</td>\n",
              "      <td>144.0</td>\n",
              "      <td>13.0</td>\n",
              "      <td>5090.0</td>\n",
              "      <td>20814.0</td>\n",
              "      <td>13028.917824</td>\n",
              "      <td>4687.316428</td>\n",
              "      <td>4738.650968</td>\n",
              "      <td>4177.002125</td>\n",
              "      <td>4800.125993</td>\n",
              "      <td>4307.270298</td>\n",
              "      <td>5188.600287</td>\n",
              "    </tr>\n",
              "    <tr>\n",
              "      <th>4</th>\n",
              "      <td>35</td>\n",
              "      <td>211.0</td>\n",
              "      <td>4.0</td>\n",
              "      <td>2430.0</td>\n",
              "      <td>9261.0</td>\n",
              "      <td>906.553935</td>\n",
              "      <td>4730.825112</td>\n",
              "      <td>6274.754316</td>\n",
              "      <td>5791.361541</td>\n",
              "      <td>4800.125993</td>\n",
              "      <td>4629.362965</td>\n",
              "      <td>785.778242</td>\n",
              "    </tr>\n",
              "  </tbody>\n",
              "</table>\n",
              "</div>"
            ],
            "text/plain": [
              "   Demand  charges_1  ...  Product_Category_cb  Discount_avail_cb\n",
              "0      68      376.0  ...          4869.622354        5188.600287\n",
              "1      51      397.0  ...          4869.622354        5188.600287\n",
              "2      10      250.0  ...          4590.801350        5188.600287\n",
              "3      48      144.0  ...          4307.270298        5188.600287\n",
              "4      35      211.0  ...          4629.362965         785.778242\n",
              "\n",
              "[5 rows x 12 columns]"
            ]
          },
          "metadata": {
            "tags": []
          },
          "execution_count": 53
        }
      ]
    },
    {
      "cell_type": "code",
      "metadata": {
        "colab": {
          "base_uri": "https://localhost:8080/",
          "height": 417
        },
        "id": "Uw7izRbf_EUg",
        "outputId": "093629b5-5ce8-4fb9-eb20-a1dbcf5283e2"
      },
      "source": [
        "nan_plotter(train_CBE)"
      ],
      "execution_count": null,
      "outputs": [
        {
          "output_type": "display_data",
          "data": {
            "image/png": "[encoded data removed]",
            "text/plain": [
              "<Figure size 1080x360 with 1 Axes>"
            ]
          },
          "metadata": {
            "tags": [],
            "needs_background": "light"
          }
        }
      ]
    },
    {
      "cell_type": "code",
      "metadata": {
        "id": "LUh5o3tWCDqC"
      },
      "source": [
        "y=train_CBE[\"Selling_Price\"]"
      ],
      "execution_count": null,
      "outputs": []
    },
    {
      "cell_type": "code",
      "metadata": {
        "colab": {
          "base_uri": "https://localhost:8080/"
        },
        "id": "J_3Jy-kqCmIt",
        "outputId": "2b8618f7-295b-4a99-fd86-9f81585ba8c2"
      },
      "source": [
        "y"
      ],
      "execution_count": null,
      "outputs": [
        {
          "output_type": "execute_result",
          "data": {
            "text/plain": [
              "0        4185.947700\n",
              "1        9271.490256\n",
              "2        6785.701362\n",
              "3       13028.917824\n",
              "4         906.553935\n",
              "            ...     \n",
              "6363    10277.520192\n",
              "6364     4501.837200\n",
              "6365    10218.878775\n",
              "6366     5359.493997\n",
              "6367     5220.013568\n",
              "Name: Selling_Price, Length: 6247, dtype: float64"
            ]
          },
          "metadata": {
            "tags": []
          },
          "execution_count": 61
        }
      ]
    },
    {
      "cell_type": "code",
      "metadata": {
        "id": "cIs_goBnCptY"
      },
      "source": [
        "train_CBE.drop(labels=\"Selling_Price\",axis=1,inplace=True)"
      ],
      "execution_count": null,
      "outputs": []
    },
    {
      "cell_type": "code",
      "metadata": {
        "id": "3das4MhLAGgw"
      },
      "source": [
        "column_means = train_CBE.mean()\n",
        "train_CBE = train_CBE.fillna(column_means)"
      ],
      "execution_count": null,
      "outputs": []
    },
    {
      "cell_type": "code",
      "metadata": {
        "colab": {
          "base_uri": "https://localhost:8080/"
        },
        "id": "qIUCaaYAB6Yk",
        "outputId": "7c023efd-d020-485c-f7fd-9649fcc5158c"
      },
      "source": [
        "len(train_CBE)\n"
      ],
      "execution_count": null,
      "outputs": [
        {
          "output_type": "execute_result",
          "data": {
            "text/plain": [
              "6247"
            ]
          },
          "metadata": {
            "tags": []
          },
          "execution_count": 97
        }
      ]
    },
    {
      "cell_type": "code",
      "metadata": {
        "id": "gBMIox1KCKMa"
      },
      "source": [
        "xtrain=train_CBE.iloc[:6000,:].values\n",
        "xtest=train_CBE.iloc[6000:,:].values\n",
        "ytrain=y[:6000]\n",
        "ytest=y[6000:]"
      ],
      "execution_count": null,
      "outputs": []
    },
    {
      "cell_type": "code",
      "metadata": {
        "id": "AkIpWFCdHhco"
      },
      "source": [
        "from sklearn.ensemble import RandomForestRegressor"
      ],
      "execution_count": null,
      "outputs": []
    },
    {
      "cell_type": "code",
      "metadata": {
        "colab": {
          "base_uri": "https://localhost:8080/"
        },
        "id": "Eu7cf0oqHhYz",
        "outputId": "9dcd024f-1a77-4141-ead5-7d317b67e0ee"
      },
      "source": [
        "regr = RandomForestRegressor(max_depth=2, random_state=0)\n",
        "regr.fit(xtrain, ytrain)"
      ],
      "execution_count": null,
      "outputs": [
        {
          "output_type": "execute_result",
          "data": {
            "text/plain": [
              "RandomForestRegressor(bootstrap=True, ccp_alpha=0.0, criterion='mse',\n",
              "                      max_depth=2, max_features='auto', max_leaf_nodes=None,\n",
              "                      max_samples=None, min_impurity_decrease=0.0,\n",
              "                      min_impurity_split=None, min_samples_leaf=1,\n",
              "                      min_samples_split=2, min_weight_fraction_leaf=0.0,\n",
              "                      n_estimators=100, n_jobs=None, oob_score=False,\n",
              "                      random_state=0, verbose=0, warm_start=False)"
            ]
          },
          "metadata": {
            "tags": []
          },
          "execution_count": 111
        }
      ]
    },
    {
      "cell_type": "code",
      "metadata": {
        "id": "elz98sXQHhWr"
      },
      "source": [
        "pred=regr.predict(xtest)"
      ],
      "execution_count": null,
      "outputs": []
    },
    {
      "cell_type": "code",
      "metadata": {
        "id": "7bVG6OyIFjPT"
      },
      "source": [
        "from sklearn.metrics import mean_squared_error,roc_auc_score,precision_score"
      ],
      "execution_count": null,
      "outputs": []
    },
    {
      "cell_type": "code",
      "metadata": {
        "colab": {
          "base_uri": "https://localhost:8080/"
        },
        "id": "Hr0PnsjdFsyM",
        "outputId": "c6221038-4817-4db3-d6ab-f7de027af9a0"
      },
      "source": [
        "mean_squared_error(pred,ytest)"
      ],
      "execution_count": null,
      "outputs": [
        {
          "output_type": "execute_result",
          "data": {
            "text/plain": [
              "2771125.6456404566"
            ]
          },
          "metadata": {
            "tags": []
          },
          "execution_count": 113
        }
      ]
    },
    {
      "cell_type": "code",
      "metadata": {
        "id": "KgiA8DrEF0Rf"
      },
      "source": [
        ""
      ],
      "execution_count": null,
      "outputs": []
    }
  ]
}