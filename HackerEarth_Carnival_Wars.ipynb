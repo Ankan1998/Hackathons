{
  "nbformat": 4,
  "nbformat_minor": 0,
  "metadata": {
    "colab": {
      "name": "HackerEarth Carnival Wars.ipynb",
      "provenance": [],
      "collapsed_sections": [],
      "toc_visible": true,
      "mount_file_id": "1Gbcf-ySJ3NAjuW6SV8T-FF0JRAp-Qvzo",
      "authorship_tag": "ABX9TyPegBZLEvY1yxVEIDW1jfCj",
      "include_colab_link": true
    },
    "kernelspec": {
      "name": "python3",
      "display_name": "Python 3"
    }
  },
  "cells": [
    {
      "cell_type": "markdown",
      "metadata": {
        "id": "view-in-github",
        "colab_type": "text"
      },
      "source": [
        "<a href=\"https://colab.research.google.com/github/Ankan1998/Hackathons/blob/main/HackerEarth_Carnival_Wars.ipynb\" target=\"_parent\"><img src=\"https://colab.research.google.com/assets/colab-badge.svg\" alt=\"Open In Colab\"/></a>"
      ]
    },
    {
      "cell_type": "markdown",
      "metadata": {
        "id": "aINACOWorIQ2"
      },
      "source": [
        "### Checking the dataset"
      ]
    },
    {
      "cell_type": "code",
      "metadata": {
        "id": "898N3zPjrNxc"
      },
      "source": [
        "import pandas as pd \n",
        "import numpy as np"
      ],
      "execution_count": 1,
      "outputs": []
    },
    {
      "cell_type": "code",
      "metadata": {
        "id": "wQHGlW7RqslA"
      },
      "source": [
        "train=pd.read_csv(\"/content/drive/MyDrive/Hackathon/HackerEarth Machine Learning Challenge: Carnival Wars/dataset/train.csv\")\n",
        "test=pd.read_csv(\"/content/drive/MyDrive/Hackathon/HackerEarth Machine Learning Challenge: Carnival Wars/dataset/test.csv\")\n",
        "sample=pd.read_csv(\"/content/drive/MyDrive/Hackathon/HackerEarth Machine Learning Challenge: Carnival Wars/dataset/sample_submission.csv\")"
      ],
      "execution_count": 2,
      "outputs": []
    },
    {
      "cell_type": "code",
      "metadata": {
        "colab": {
          "base_uri": "https://localhost:8080/",
          "height": 316
        },
        "id": "mp4zWwLwrijb",
        "outputId": "b6b8b6c5-e4ae-47ed-e799-2c3addb43a73"
      },
      "source": [
        "train.head()"
      ],
      "execution_count": 3,
      "outputs": [
        {
          "output_type": "execute_result",
          "data": {
            "text/html": [
              "<div>\n",
              "<style scoped>\n",
              "    .dataframe tbody tr th:only-of-type {\n",
              "        vertical-align: middle;\n",
              "    }\n",
              "\n",
              "    .dataframe tbody tr th {\n",
              "        vertical-align: top;\n",
              "    }\n",
              "\n",
              "    .dataframe thead th {\n",
              "        text-align: right;\n",
              "    }\n",
              "</style>\n",
              "<table border=\"1\" class=\"dataframe\">\n",
              "  <thead>\n",
              "    <tr style=\"text-align: right;\">\n",
              "      <th></th>\n",
              "      <th>Product_id</th>\n",
              "      <th>Stall_no</th>\n",
              "      <th>instock_date</th>\n",
              "      <th>Market_Category</th>\n",
              "      <th>Customer_name</th>\n",
              "      <th>Loyalty_customer</th>\n",
              "      <th>Product_Category</th>\n",
              "      <th>Grade</th>\n",
              "      <th>Demand</th>\n",
              "      <th>Discount_avail</th>\n",
              "      <th>charges_1</th>\n",
              "      <th>charges_2 (%)</th>\n",
              "      <th>Minimum_price</th>\n",
              "      <th>Maximum_price</th>\n",
              "      <th>Selling_Price</th>\n",
              "    </tr>\n",
              "  </thead>\n",
              "  <tbody>\n",
              "    <tr>\n",
              "      <th>0</th>\n",
              "      <td>BRAE2NF6JA5GUEXG</td>\n",
              "      <td>37.0</td>\n",
              "      <td>2015-08-22 18:36:12.000</td>\n",
              "      <td>2</td>\n",
              "      <td>Lillyann</td>\n",
              "      <td>Yes</td>\n",
              "      <td>Fashion</td>\n",
              "      <td>1</td>\n",
              "      <td>68</td>\n",
              "      <td>0.0</td>\n",
              "      <td>376.0</td>\n",
              "      <td>11.0</td>\n",
              "      <td>2983.0</td>\n",
              "      <td>4713.0</td>\n",
              "      <td>4185.947700</td>\n",
              "    </tr>\n",
              "    <tr>\n",
              "      <th>1</th>\n",
              "      <td>TUNE8SFB6RJN2HSD</td>\n",
              "      <td>38.0</td>\n",
              "      <td>2016-03-27 21:19:13.000</td>\n",
              "      <td>24</td>\n",
              "      <td>Klynn</td>\n",
              "      <td>Yes</td>\n",
              "      <td>Fashion</td>\n",
              "      <td>0</td>\n",
              "      <td>51</td>\n",
              "      <td>0.0</td>\n",
              "      <td>397.0</td>\n",
              "      <td>12.0</td>\n",
              "      <td>7495.0</td>\n",
              "      <td>10352.0</td>\n",
              "      <td>9271.490256</td>\n",
              "    </tr>\n",
              "    <tr>\n",
              "      <th>2</th>\n",
              "      <td>BRAEAR7WZPQGPBZU</td>\n",
              "      <td>9.0</td>\n",
              "      <td>2015-08-18 19:25:22.000</td>\n",
              "      <td>447</td>\n",
              "      <td>Ridge</td>\n",
              "      <td>Yes</td>\n",
              "      <td>Child_care</td>\n",
              "      <td>0</td>\n",
              "      <td>10</td>\n",
              "      <td>0.0</td>\n",
              "      <td>250.0</td>\n",
              "      <td>9.0</td>\n",
              "      <td>5752.0</td>\n",
              "      <td>7309.0</td>\n",
              "      <td>6785.701362</td>\n",
              "    </tr>\n",
              "    <tr>\n",
              "      <th>3</th>\n",
              "      <td>WATDZ2ZQ8JPDHCTJ</td>\n",
              "      <td>50.0</td>\n",
              "      <td>2016-03-28 21:53:01.000</td>\n",
              "      <td>23</td>\n",
              "      <td>Abran</td>\n",
              "      <td>Yes</td>\n",
              "      <td>Educational</td>\n",
              "      <td>2</td>\n",
              "      <td>48</td>\n",
              "      <td>0.0</td>\n",
              "      <td>144.0</td>\n",
              "      <td>13.0</td>\n",
              "      <td>5090.0</td>\n",
              "      <td>20814.0</td>\n",
              "      <td>13028.917824</td>\n",
              "    </tr>\n",
              "    <tr>\n",
              "      <th>4</th>\n",
              "      <td>JWSEBUKYQPMBZ3RK</td>\n",
              "      <td>7.0</td>\n",
              "      <td>2016-03-29 22:58:53.000</td>\n",
              "      <td>63</td>\n",
              "      <td>Dustyn</td>\n",
              "      <td>Yes</td>\n",
              "      <td>Repair</td>\n",
              "      <td>1</td>\n",
              "      <td>35</td>\n",
              "      <td>1.0</td>\n",
              "      <td>211.0</td>\n",
              "      <td>4.0</td>\n",
              "      <td>2430.0</td>\n",
              "      <td>9261.0</td>\n",
              "      <td>906.553935</td>\n",
              "    </tr>\n",
              "  </tbody>\n",
              "</table>\n",
              "</div>"
            ],
            "text/plain": [
              "         Product_id  Stall_no  ... Maximum_price  Selling_Price\n",
              "0  BRAE2NF6JA5GUEXG      37.0  ...        4713.0    4185.947700\n",
              "1  TUNE8SFB6RJN2HSD      38.0  ...       10352.0    9271.490256\n",
              "2  BRAEAR7WZPQGPBZU       9.0  ...        7309.0    6785.701362\n",
              "3  WATDZ2ZQ8JPDHCTJ      50.0  ...       20814.0   13028.917824\n",
              "4  JWSEBUKYQPMBZ3RK       7.0  ...        9261.0     906.553935\n",
              "\n",
              "[5 rows x 15 columns]"
            ]
          },
          "metadata": {
            "tags": []
          },
          "execution_count": 3
        }
      ]
    },
    {
      "cell_type": "code",
      "metadata": {
        "colab": {
          "base_uri": "https://localhost:8080/"
        },
        "id": "Rc9xoB9Eefsd",
        "outputId": "76791bfb-6051-4345-b68f-709c890cb761"
      },
      "source": [
        "len(train)"
      ],
      "execution_count": null,
      "outputs": [
        {
          "output_type": "execute_result",
          "data": {
            "text/plain": [
              "6368"
            ]
          },
          "metadata": {
            "tags": []
          },
          "execution_count": 4
        }
      ]
    },
    {
      "cell_type": "code",
      "metadata": {
        "id": "1EQGHry2rlcg"
      },
      "source": [
        "test.head()"
      ],
      "execution_count": null,
      "outputs": []
    },
    {
      "cell_type": "code",
      "metadata": {
        "id": "o1V3vLnyrqAk"
      },
      "source": [
        "sample.head()"
      ],
      "execution_count": null,
      "outputs": []
    },
    {
      "cell_type": "markdown",
      "metadata": {
        "id": "c2JUvxEmr39E"
      },
      "source": [
        "### Inspecting Train Set"
      ]
    },
    {
      "cell_type": "code",
      "metadata": {
        "id": "ILz4Jeisf97Q"
      },
      "source": [
        "# drop product id\n",
        "train.drop(labels=\"Product_id\",axis=1,inplace=True)"
      ],
      "execution_count": 4,
      "outputs": []
    },
    {
      "cell_type": "code",
      "metadata": {
        "id": "i_VzIIp9jynv"
      },
      "source": [
        "# Nan Plot\n",
        "def nan_plotter(dataset):\n",
        "  import matplotlib.pyplot as plt\n",
        "  nan_list=dict()\n",
        "  for i in dataset:\n",
        "    nan_list[i]=dataset[i].isnull().sum()\n",
        "  plt.figure(figsize=(15,5))\n",
        "  # creating the bar plot \n",
        "  plt.bar(list(nan_list.keys()), list(nan_list.values()), color ='lightblue',  \n",
        "          width = 0.3) \n",
        "  plt.xticks(rotation=90)\n",
        "  \n"
      ],
      "execution_count": 5,
      "outputs": []
    },
    {
      "cell_type": "code",
      "metadata": {
        "colab": {
          "base_uri": "https://localhost:8080/",
          "height": 398
        },
        "id": "OPbwhbuKnSN0",
        "outputId": "3f2a3d0c-4f5f-498d-8552-311aa3e2e091"
      },
      "source": [
        "nan_plotter(train)"
      ],
      "execution_count": null,
      "outputs": [
        {
          "output_type": "display_data",
          "data": {
            "image/png": "[encoded data removed]",
            "text/plain": [
              "<Figure size 1080x360 with 1 Axes>"
            ]
          },
          "metadata": {
            "tags": [],
            "needs_background": "light"
          }
        }
      ]
    },
    {
      "cell_type": "code",
      "metadata": {
        "colab": {
          "base_uri": "https://localhost:8080/",
          "height": 398
        },
        "id": "NDM45LQZnkui",
        "outputId": "429702d1-1e17-45d0-903b-838c04d2ca04"
      },
      "source": [
        "nan_plotter(test)"
      ],
      "execution_count": null,
      "outputs": [
        {
          "output_type": "display_data",
          "data": {
            "image/png": "[encoded data removed]",
            "text/plain": [
              "<Figure size 1080x360 with 1 Axes>"
            ]
          },
          "metadata": {
            "tags": [],
            "needs_background": "light"
          }
        }
      ]
    },
    {
      "cell_type": "code",
      "metadata": {
        "id": "4--MWkq_LMYm"
      },
      "source": [
        "# Drop rows where Selling_price is nan\n",
        "train.dropna(axis=0,subset=[\"Selling_Price\"],inplace=True)"
      ],
      "execution_count": 6,
      "outputs": []
    },
    {
      "cell_type": "code",
      "metadata": {
        "id": "BykLU4QmsWiX"
      },
      "source": [
        "# As the Discount_avail, Minimum_price, Stall_no is very low nan\n",
        "train.dropna(axis=0,subset=[\"Discount_avail\",\"Minimum_price\",\"Stall_no\"],inplace=True)"
      ],
      "execution_count": 7,
      "outputs": []
    },
    {
      "cell_type": "code",
      "metadata": {
        "colab": {
          "base_uri": "https://localhost:8080/"
        },
        "id": "GVxRiDFDs3b5",
        "outputId": "f7a2129b-d577-4e28-c45c-0fdcca775a4f"
      },
      "source": [
        "# Counting unique in customer name\n",
        "len(train[\"Customer_name\"].unique())"
      ],
      "execution_count": null,
      "outputs": [
        {
          "output_type": "execute_result",
          "data": {
            "text/plain": [
              "5799"
            ]
          },
          "metadata": {
            "tags": []
          },
          "execution_count": 8
        }
      ]
    },
    {
      "cell_type": "code",
      "metadata": {
        "id": "ELHBz3fbtLcu"
      },
      "source": [
        "# Dropping Customer_name\n",
        "train.drop(labels=\"Customer_name\",axis=1,inplace=True)"
      ],
      "execution_count": 8,
      "outputs": []
    },
    {
      "cell_type": "code",
      "metadata": {
        "id": "-U8wtzsEWIHl"
      },
      "source": [
        "train_xp=train.copy()"
      ],
      "execution_count": 10,
      "outputs": []
    },
    {
      "cell_type": "code",
      "metadata": {
        "id": "FR06NH_6Dewf"
      },
      "source": [
        "# Finding presence of outlier\n",
        "train_xp.dropna(axis=0,subset=[\"Maximum_price\"],inplace=True)\n",
        "train_xp.dropna(axis=0,subset=[\"charges_1\"],inplace=True)\n",
        "train_xp.dropna(axis=0,subset=[\"charges_2 (%)\"],inplace=True)"
      ],
      "execution_count": 11,
      "outputs": []
    },
    {
      "cell_type": "code",
      "metadata": {
        "id": "yBekZGk4DzA4"
      },
      "source": [
        "import numpy as np\n",
        "import pandas as pd\n",
        "\n",
        "def detect_outlier(data_1):\n",
        "    outliers={}\n",
        "    threshold=3\n",
        "    mean_1 = np.mean(data_1)\n",
        "    std_1 =np.std(data_1)\n",
        "    \n",
        "    \n",
        "    for idx,y in enumerate(data_1):\n",
        "        z_score= (y - mean_1)/std_1 \n",
        "        if np.abs(z_score) > threshold:\n",
        "            outliers[idx]=y\n",
        "    return outliers\n",
        "\n"
      ],
      "execution_count": 12,
      "outputs": []
    },
    {
      "cell_type": "code",
      "metadata": {
        "id": "SbND0OMiF2o4"
      },
      "source": [
        "out_max=detect_outlier(list(train_xp[\"Maximum_price\"]))\n",
        "out_ch1=detect_outlier(list(train_xp[\"charges_1\"]))\n",
        "out_min=detect_outlier(list(train_xp[\"Minimum_price\"]))\n",
        "out_sel_p=detect_outlier(list(train_xp[\"Selling_Price\"]))"
      ],
      "execution_count": 13,
      "outputs": []
    },
    {
      "cell_type": "code",
      "metadata": {
        "colab": {
          "base_uri": "https://localhost:8080/"
        },
        "id": "50enm2T0FkFt",
        "outputId": "f943fea9-a04d-44c6-8160-1fa8ca6e19eb"
      },
      "source": [
        "detect_outlier(list(train_xp[\"charges_2 (%)\"]))"
      ],
      "execution_count": null,
      "outputs": [
        {
          "output_type": "execute_result",
          "data": {
            "text/plain": [
              "{}"
            ]
          },
          "metadata": {
            "tags": []
          },
          "execution_count": 43
        }
      ]
    },
    {
      "cell_type": "code",
      "metadata": {
        "id": "qpR6pfcxJLr4"
      },
      "source": [
        "# Data with same indexed outlier\n",
        "common=[]\n",
        "for i in list(out_ch1.keys()):\n",
        "  if i in list(out_max.keys()):\n",
        "    common.append(i)\n",
        "  else:\n",
        "    continue\n"
      ],
      "execution_count": 17,
      "outputs": []
    },
    {
      "cell_type": "code",
      "metadata": {
        "id": "hpDKTBKWOubb"
      },
      "source": [
        "# getting index of oulier\n",
        "list_outlier=sorted(list(set(list(out_max.keys())+list(out_min.keys())+list(out_sel_p.keys()) + list(out_max.keys()))))"
      ],
      "execution_count": 18,
      "outputs": []
    },
    {
      "cell_type": "code",
      "metadata": {
        "colab": {
          "base_uri": "https://localhost:8080/"
        },
        "id": "h6CmiF6rTXMY",
        "outputId": "13fb1f81-3321-4b31-d5fb-f3798e783910"
      },
      "source": [
        "len(list_outlier)"
      ],
      "execution_count": 19,
      "outputs": [
        {
          "output_type": "execute_result",
          "data": {
            "text/plain": [
              "121"
            ]
          },
          "metadata": {
            "tags": []
          },
          "execution_count": 19
        }
      ]
    },
    {
      "cell_type": "code",
      "metadata": {
        "id": "j4DRJNI2Smjw"
      },
      "source": [
        "# dropping outlier row\n",
        "train_xp.drop(train_xp.index[list_outlier],inplace=True)"
      ],
      "execution_count": 20,
      "outputs": []
    },
    {
      "cell_type": "code",
      "metadata": {
        "id": "Y3ytbfTNBQPd"
      },
      "source": [
        "# Filling up nan\n",
        "# maximum_price has outlier, charges_1 has outlier \n",
        "#charges_2 (%) has no outlier \n",
        "train_xp['charges_2 (%)']=train_xp['charges_2 (%)'].fillna(train_xp['charges_2 (%)'].mean()).astype(int)\n",
        "train_xp['charges_1']=train_xp['charges_1'].fillna(train_xp['charges_1'].median()).astype(int)\n",
        "train_xp['Maximum_price']=train_xp['Maximum_price'].fillna(train_xp['Maximum_price'].median()).astype(int)"
      ],
      "execution_count": 22,
      "outputs": []
    },
    {
      "cell_type": "code",
      "metadata": {
        "id": "0_n9-yanfq4Z"
      },
      "source": [
        "# Unique counter\n",
        "def unique_counter(dataset):\n",
        "  uni=[]\n",
        "  for i in dataset:\n",
        "    uni.append((i,len(dataset[i].unique())))\n",
        "  return uni"
      ],
      "execution_count": null,
      "outputs": []
    },
    {
      "cell_type": "code",
      "metadata": {
        "colab": {
          "base_uri": "https://localhost:8080/"
        },
        "id": "4NUP3zRsuAhH",
        "outputId": "3327199e-fa05-452c-84e7-1823ed237f1b"
      },
      "source": [
        "unique_counter(train_xp)"
      ],
      "execution_count": null,
      "outputs": [
        {
          "output_type": "execute_result",
          "data": {
            "text/plain": [
              "[('Stall_no', 50),\n",
              " ('instock_date', 4714),\n",
              " ('Market_Category', 237),\n",
              " ('Loyalty_customer', 2),\n",
              " ('Product_Category', 10),\n",
              " ('Grade', 4),\n",
              " ('Demand', 100),\n",
              " ('Discount_avail', 2),\n",
              " ('charges_1', 480),\n",
              " ('charges_2 (%)', 17),\n",
              " ('Minimum_price', 3804),\n",
              " ('Maximum_price', 4231),\n",
              " ('Selling_Price', 5446)]"
            ]
          },
          "metadata": {
            "tags": []
          },
          "execution_count": 51
        }
      ]
    },
    {
      "cell_type": "code",
      "metadata": {
        "id": "xYb8NKsBYij2"
      },
      "source": [
        "from sklearn.preprocessing import LabelEncoder\n",
        "le=LabelEncoder()\n",
        "train_xp['Loyalty_customer']=le.fit_transform(train_xp['Loyalty_customer'])"
      ],
      "execution_count": 23,
      "outputs": []
    },
    {
      "cell_type": "code",
      "metadata": {
        "id": "q24Fp_yjZcko"
      },
      "source": [
        "product=train_xp[['Product_Category']]\n",
        "product=pd.get_dummies(product,drop_first=True)\n",
        "train_xp=pd.concat([train_xp,product],axis=1)\n",
        "train_xp.drop(['Product_Category'],axis=1,inplace=True)"
      ],
      "execution_count": 24,
      "outputs": []
    },
    {
      "cell_type": "code",
      "metadata": {
        "id": "MUJWWbP3YiOm"
      },
      "source": [
        "y=train_xp[\"Selling_Price\"]"
      ],
      "execution_count": 27,
      "outputs": []
    },
    {
      "cell_type": "code",
      "metadata": {
        "id": "QJQ-Iq4djKQt"
      },
      "source": [
        "train_xp.drop(['instock_date'],axis=1,inplace=True)\n",
        "train_xp.drop(['Selling_Price'],axis=1,inplace=True)"
      ],
      "execution_count": 29,
      "outputs": []
    },
    {
      "cell_type": "code",
      "metadata": {
        "id": "eOmieWMjYiHL"
      },
      "source": [
        "from sklearn.model_selection import train_test_split\n",
        "X_train,X_test,y_train,y_test=train_test_split(train_xp,y,test_size=0.1,random_state=10)"
      ],
      "execution_count": 31,
      "outputs": []
    },
    {
      "cell_type": "markdown",
      "metadata": {
        "id": "0xDqi7bHOwvo"
      },
      "source": [
        "### Base Model with Random Forest"
      ]
    },
    {
      "cell_type": "code",
      "metadata": {
        "colab": {
          "base_uri": "https://localhost:8080/"
        },
        "id": "AwF1AZY6Yh41",
        "outputId": "7a43312b-7ee1-4ed9-c9e1-f10a423da0b5"
      },
      "source": [
        "from sklearn.ensemble import RandomForestRegressor\n",
        "reg = RandomForestRegressor(max_depth = 15, random_state=0,n_estimators = 100,verbose = 1)\n",
        "reg.fit(X_train,y_train)"
      ],
      "execution_count": null,
      "outputs": [
        {
          "output_type": "stream",
          "text": [
            "[Parallel(n_jobs=1)]: Using backend SequentialBackend with 1 concurrent workers.\n",
            "[Parallel(n_jobs=1)]: Done 100 out of 100 | elapsed:    2.8s finished\n"
          ],
          "name": "stderr"
        },
        {
          "output_type": "execute_result",
          "data": {
            "text/plain": [
              "RandomForestRegressor(bootstrap=True, ccp_alpha=0.0, criterion='mse',\n",
              "                      max_depth=15, max_features='auto', max_leaf_nodes=None,\n",
              "                      max_samples=None, min_impurity_decrease=0.0,\n",
              "                      min_impurity_split=None, min_samples_leaf=1,\n",
              "                      min_samples_split=2, min_weight_fraction_leaf=0.0,\n",
              "                      n_estimators=100, n_jobs=None, oob_score=False,\n",
              "                      random_state=0, verbose=1, warm_start=False)"
            ]
          },
          "metadata": {
            "tags": []
          },
          "execution_count": 97
        }
      ]
    },
    {
      "cell_type": "code",
      "metadata": {
        "colab": {
          "base_uri": "https://localhost:8080/"
        },
        "id": "Xkqt-OZLbCq-",
        "outputId": "c80c2e0b-7a29-49d5-b939-38f6272dccf2"
      },
      "source": [
        "reg.score(X_train,y_train)"
      ],
      "execution_count": null,
      "outputs": [
        {
          "output_type": "stream",
          "text": [
            "[Parallel(n_jobs=1)]: Using backend SequentialBackend with 1 concurrent workers.\n",
            "[Parallel(n_jobs=1)]: Done 100 out of 100 | elapsed:    0.1s finished\n"
          ],
          "name": "stderr"
        },
        {
          "output_type": "execute_result",
          "data": {
            "text/plain": [
              "0.9990429004311564"
            ]
          },
          "metadata": {
            "tags": []
          },
          "execution_count": 98
        }
      ]
    },
    {
      "cell_type": "code",
      "metadata": {
        "colab": {
          "base_uri": "https://localhost:8080/"
        },
        "id": "O9ENBEg1bCiq",
        "outputId": "8694a254-7d9d-47a1-8075-3bf0daea6ff5"
      },
      "source": [
        "y_pred=reg.predict(X_test)"
      ],
      "execution_count": null,
      "outputs": [
        {
          "output_type": "stream",
          "text": [
            "[Parallel(n_jobs=1)]: Using backend SequentialBackend with 1 concurrent workers.\n",
            "[Parallel(n_jobs=1)]: Done 100 out of 100 | elapsed:    0.0s finished\n"
          ],
          "name": "stderr"
        }
      ]
    },
    {
      "cell_type": "code",
      "metadata": {
        "id": "syxtVrMYbCa4"
      },
      "source": [
        "from sklearn.metrics import r2_score\n",
        "rsquare=r2_score(y_test,y_pred)"
      ],
      "execution_count": null,
      "outputs": []
    },
    {
      "cell_type": "code",
      "metadata": {
        "colab": {
          "base_uri": "https://localhost:8080/"
        },
        "id": "hV3ZYI7lbCS2",
        "outputId": "1ccfae07-ce1c-407f-bf2a-324c79db415a"
      },
      "source": [
        "rsquare"
      ],
      "execution_count": null,
      "outputs": [
        {
          "output_type": "execute_result",
          "data": {
            "text/plain": [
              "0.9860244048525305"
            ]
          },
          "metadata": {
            "tags": []
          },
          "execution_count": 101
        }
      ]
    },
    {
      "cell_type": "code",
      "metadata": {
        "colab": {
          "base_uri": "https://localhost:8080/"
        },
        "id": "WnNxXdDUbCJ1",
        "outputId": "4ff5719c-7860-436f-e6fa-21c4df92520a"
      },
      "source": [
        "from sklearn.metrics import mean_squared_error as MSE\n",
        "import numpy as np\n",
        " \n",
        "rmse = np.sqrt(MSE(y_test,y_pred)) \n",
        "print(\"RMSE : % f\" %(rmse)) "
      ],
      "execution_count": null,
      "outputs": [
        {
          "output_type": "stream",
          "text": [
            "RMSE :  322.275388\n"
          ],
          "name": "stdout"
        }
      ]
    },
    {
      "cell_type": "code",
      "metadata": {
        "id": "83-gQ3Oabk3F"
      },
      "source": [
        "import pickle\n",
        "Pkl_Filename = \"/content/drive/MyDrive/Hackathon/HackerEarth Machine Learning Challenge: Carnival Wars/Pickle_rfreg_Model.pkl\"  \n",
        "\n",
        "with open(Pkl_Filename, 'wb') as file:  \n",
        "    pickle.dump(reg, file)"
      ],
      "execution_count": null,
      "outputs": []
    },
    {
      "cell_type": "code",
      "metadata": {
        "id": "m9HsbXPjbkvM"
      },
      "source": [
        "# Load the Model back from file\n",
        "Pkl_Filename = \"/content/drive/MyDrive/Hackathon/HackerEarth Machine Learning Challenge: Carnival Wars/Pickle_rfreg_Model.pkl\"  \n",
        "with open(Pkl_Filename, 'rb') as file:  \n",
        "    Pickled_LR_Model = pickle.load(file)\n",
        "\n"
      ],
      "execution_count": null,
      "outputs": []
    },
    {
      "cell_type": "markdown",
      "metadata": {
        "id": "0S4G_TLWnmSs"
      },
      "source": [
        "## Advanced modelling"
      ]
    },
    {
      "cell_type": "code",
      "metadata": {
        "id": "FNEaTRmAnpeV"
      },
      "source": [
        "from sklearn.model_selection import RandomizedSearchCV"
      ],
      "execution_count": 32,
      "outputs": []
    },
    {
      "cell_type": "code",
      "metadata": {
        "id": "NyE508Meras1"
      },
      "source": [
        "from sklearn.ensemble import RandomForestRegressor\n",
        "reg_rand=RandomForestRegressor()"
      ],
      "execution_count": 36,
      "outputs": []
    },
    {
      "cell_type": "code",
      "metadata": {
        "colab": {
          "base_uri": "https://localhost:8080/"
        },
        "id": "xrq082z1oD7k",
        "outputId": "8094e994-b15f-4fde-fb90-8d0da0aab2c5"
      },
      "source": [
        "parameters={'bootstrap': [True, False],\n",
        " 'max_depth': [10, 20, 30, 40, 50, 60],\n",
        " 'max_features': ['auto', 'sqrt'],\n",
        " 'min_samples_leaf': [1, 2, 4],\n",
        " 'min_samples_split': [2, 5, 10],\n",
        " 'n_estimators': [200, 600, 1000, 1400, 1800]}\n",
        "random_search=RandomizedSearchCV(estimator= reg_rand,\n",
        "                        param_distributions=parameters,\n",
        "                        scoring = 'neg_mean_absolute_error',\n",
        "                        cv = 10,\n",
        "                        n_iter=25,\n",
        "                        n_jobs= 4,\n",
        "                        verbose=5,\n",
        "                        return_train_score=True,\n",
        "                        random_state=42)\n",
        "best_acc=random_search.fit(train_xp,y)"
      ],
      "execution_count": 37,
      "outputs": [
        {
          "output_type": "stream",
          "text": [
            "Fitting 10 folds for each of 25 candidates, totalling 250 fits\n"
          ],
          "name": "stdout"
        },
        {
          "output_type": "stream",
          "text": [
            "[Parallel(n_jobs=4)]: Using backend LokyBackend with 4 concurrent workers.\n",
            "[Parallel(n_jobs=4)]: Done  10 tasks      | elapsed:  1.9min\n",
            "/usr/local/lib/python3.6/dist-packages/joblib/externals/loky/process_executor.py:691: UserWarning: A worker stopped while some jobs were given to the executor. This can be caused by a too short worker timeout or by a memory leak.\n",
            "  \"timeout or by a memory leak.\", UserWarning\n",
            "[Parallel(n_jobs=4)]: Done  64 tasks      | elapsed: 13.9min\n",
            "[Parallel(n_jobs=4)]: Done 154 tasks      | elapsed: 50.3min\n",
            "[Parallel(n_jobs=4)]: Done 250 out of 250 | elapsed: 65.8min finished\n"
          ],
          "name": "stderr"
        }
      ]
    },
    {
      "cell_type": "code",
      "metadata": {
        "colab": {
          "base_uri": "https://localhost:8080/"
        },
        "id": "MpFDC415oDtE",
        "outputId": "86625c50-4f10-4b88-93cd-b6813806e47d"
      },
      "source": [
        "random_search.best_estimator_"
      ],
      "execution_count": 38,
      "outputs": [
        {
          "output_type": "execute_result",
          "data": {
            "text/plain": [
              "RandomForestRegressor(bootstrap=True, ccp_alpha=0.0, criterion='mse',\n",
              "                      max_depth=50, max_features='auto', max_leaf_nodes=None,\n",
              "                      max_samples=None, min_impurity_decrease=0.0,\n",
              "                      min_impurity_split=None, min_samples_leaf=1,\n",
              "                      min_samples_split=5, min_weight_fraction_leaf=0.0,\n",
              "                      n_estimators=200, n_jobs=None, oob_score=False,\n",
              "                      random_state=None, verbose=0, warm_start=False)"
            ]
          },
          "metadata": {
            "tags": []
          },
          "execution_count": 38
        }
      ]
    },
    {
      "cell_type": "code",
      "metadata": {
        "id": "daYUAw6DoDf-"
      },
      "source": [
        "regressor_mod=RandomForestRegressor(bootstrap=True, ccp_alpha=0.0, criterion='mse',\n",
        "                      max_depth=50, max_features='auto', max_leaf_nodes=None,\n",
        "                      max_samples=None, min_impurity_decrease=0.0,\n",
        "                      min_impurity_split=None, min_samples_leaf=1,\n",
        "                      min_samples_split=5, min_weight_fraction_leaf=0.0,\n",
        "                      n_estimators=200, n_jobs=None, oob_score=False,\n",
        "                      random_state=None, verbose=0, warm_start=False)"
      ],
      "execution_count": 39,
      "outputs": []
    },
    {
      "cell_type": "code",
      "metadata": {
        "colab": {
          "base_uri": "https://localhost:8080/"
        },
        "id": "b_k4Xym0oDRI",
        "outputId": "6e4a9854-8226-4137-c4fd-d18e11a5d125"
      },
      "source": [
        "regressor_mod.fit(train_xp,y)"
      ],
      "execution_count": 40,
      "outputs": [
        {
          "output_type": "execute_result",
          "data": {
            "text/plain": [
              "RandomForestRegressor(bootstrap=True, ccp_alpha=0.0, criterion='mse',\n",
              "                      max_depth=50, max_features='auto', max_leaf_nodes=None,\n",
              "                      max_samples=None, min_impurity_decrease=0.0,\n",
              "                      min_impurity_split=None, min_samples_leaf=1,\n",
              "                      min_samples_split=5, min_weight_fraction_leaf=0.0,\n",
              "                      n_estimators=200, n_jobs=None, oob_score=False,\n",
              "                      random_state=None, verbose=0, warm_start=False)"
            ]
          },
          "metadata": {
            "tags": []
          },
          "execution_count": 40
        }
      ]
    },
    {
      "cell_type": "code",
      "metadata": {
        "id": "YXAyKg4lqwxX"
      },
      "source": [
        "import pickle\n",
        "Pkl_Filename = \"/content/drive/MyDrive/Hackathon/HackerEarth Machine Learning Challenge: Carnival Wars/Pickle_rftuned_Model.pkl\"  \n",
        "\n",
        "with open(Pkl_Filename, 'wb') as file:  \n",
        "    pickle.dump(regressor_mod, file)"
      ],
      "execution_count": 42,
      "outputs": []
    },
    {
      "cell_type": "markdown",
      "metadata": {
        "id": "PI1lQCQLejT7"
      },
      "source": [
        "### **Test Data**"
      ]
    },
    {
      "cell_type": "code",
      "metadata": {
        "id": "Ps3tzHpdeo4X"
      },
      "source": [
        "test['Stall_no']=test['Stall_no'].fillna(test['Stall_no'].median())\n",
        "test['charges_1']=test['charges_1'].fillna(test['charges_1'].median())\n",
        "test['charges_2 (%)']=test['charges_2 (%)'].fillna(test['charges_2 (%)'].median())\n",
        "test['Minimum_price']=test['Minimum_price'].fillna(test['Minimum_price'].median())"
      ],
      "execution_count": 43,
      "outputs": []
    },
    {
      "cell_type": "code",
      "metadata": {
        "id": "gw056bP5bkmo"
      },
      "source": [
        "product_test=test[['Product_Category']]\n",
        "product_test=pd.get_dummies(product_test,drop_first=True)\n",
        "test=pd.concat([test,product_test],axis=1)\n",
        "test.drop(['Product_Category'],axis=1,inplace=True)"
      ],
      "execution_count": 44,
      "outputs": []
    },
    {
      "cell_type": "code",
      "metadata": {
        "id": "7UvLTu_3iJi8"
      },
      "source": [
        "test1=test.copy()"
      ],
      "execution_count": 47,
      "outputs": []
    },
    {
      "cell_type": "code",
      "metadata": {
        "id": "wGHerxbeh6SY"
      },
      "source": [
        "test1.drop(['Customer_name',\"instock_date\",\"Product_id\"],axis=1,inplace=True)"
      ],
      "execution_count": 48,
      "outputs": []
    },
    {
      "cell_type": "code",
      "metadata": {
        "id": "dC_W0lwAi0z9"
      },
      "source": [
        "le=LabelEncoder()\n",
        "test1['Loyalty_customer']=le.fit_transform(test1['Loyalty_customer'])"
      ],
      "execution_count": 49,
      "outputs": []
    },
    {
      "cell_type": "code",
      "metadata": {
        "id": "SWxcEz1lhqMq"
      },
      "source": [
        "predictions=regressor_mod.predict(test1)"
      ],
      "execution_count": 51,
      "outputs": []
    },
    {
      "cell_type": "code",
      "metadata": {
        "id": "dHloZa6GjtFh"
      },
      "source": [
        "data=pd.read_csv('/content/drive/MyDrive/Hackathon/HackerEarth Machine Learning Challenge: Carnival Wars/dataset/test.csv')\n",
        "predictions_test=data['Product_id']"
      ],
      "execution_count": 52,
      "outputs": []
    },
    {
      "cell_type": "code",
      "metadata": {
        "colab": {
          "base_uri": "https://localhost:8080/",
          "height": 195
        },
        "id": "ppDpm6-cjs5g",
        "outputId": "7aa16099-d3ce-44c9-c1ec-8056ab1e582b"
      },
      "source": [
        "final_df = pd.DataFrame()\n",
        "final_df[\"Product_id\"] = predictions_test\n",
        "final_df[\"Selling_Price\"] = predictions\n",
        "final_df.Selling_Price = np.where(final_df.Selling_Price < 0, 0,final_df.Selling_Price)\n",
        "final_df.to_csv(\"/content/drive/MyDrive/Hackathon/HackerEarth Machine Learning Challenge: Carnival Wars/Output_rftuned.csv\")\n",
        "final_df.head()"
      ],
      "execution_count": 53,
      "outputs": [
        {
          "output_type": "execute_result",
          "data": {
            "text/html": [
              "<div>\n",
              "<style scoped>\n",
              "    .dataframe tbody tr th:only-of-type {\n",
              "        vertical-align: middle;\n",
              "    }\n",
              "\n",
              "    .dataframe tbody tr th {\n",
              "        vertical-align: top;\n",
              "    }\n",
              "\n",
              "    .dataframe thead th {\n",
              "        text-align: right;\n",
              "    }\n",
              "</style>\n",
              "<table border=\"1\" class=\"dataframe\">\n",
              "  <thead>\n",
              "    <tr style=\"text-align: right;\">\n",
              "      <th></th>\n",
              "      <th>Product_id</th>\n",
              "      <th>Selling_Price</th>\n",
              "    </tr>\n",
              "  </thead>\n",
              "  <tbody>\n",
              "    <tr>\n",
              "      <th>0</th>\n",
              "      <td>SCHE4YSTDVPVZVXW</td>\n",
              "      <td>3263.651993</td>\n",
              "    </tr>\n",
              "    <tr>\n",
              "      <th>1</th>\n",
              "      <td>ACCEGCATKHNRXUHW</td>\n",
              "      <td>1942.075930</td>\n",
              "    </tr>\n",
              "    <tr>\n",
              "      <th>2</th>\n",
              "      <td>NKCE6GJ5XVJDXNNZ</td>\n",
              "      <td>11381.876478</td>\n",
              "    </tr>\n",
              "    <tr>\n",
              "      <th>3</th>\n",
              "      <td>NKCEB8BK3ZXDHDHM</td>\n",
              "      <td>9515.101472</td>\n",
              "    </tr>\n",
              "    <tr>\n",
              "      <th>4</th>\n",
              "      <td>TOPEFDXSAHRNPF94</td>\n",
              "      <td>5531.999675</td>\n",
              "    </tr>\n",
              "  </tbody>\n",
              "</table>\n",
              "</div>"
            ],
            "text/plain": [
              "         Product_id  Selling_Price\n",
              "0  SCHE4YSTDVPVZVXW    3263.651993\n",
              "1  ACCEGCATKHNRXUHW    1942.075930\n",
              "2  NKCE6GJ5XVJDXNNZ   11381.876478\n",
              "3  NKCEB8BK3ZXDHDHM    9515.101472\n",
              "4  TOPEFDXSAHRNPF94    5531.999675"
            ]
          },
          "metadata": {
            "tags": []
          },
          "execution_count": 53
        }
      ]
    }
  ]
}