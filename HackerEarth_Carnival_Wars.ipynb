{
  "nbformat": 4,
  "nbformat_minor": 0,
  "metadata": {
    "colab": {
      "name": "HackerEarth Carnival Wars.ipynb",
      "provenance": [],
      "mount_file_id": "1Gbcf-ySJ3NAjuW6SV8T-FF0JRAp-Qvzo",
      "authorship_tag": "ABX9TyOn6AXUZgxO2yjg27ePbmrP",
      "include_colab_link": true
    },
    "kernelspec": {
      "name": "python3",
      "display_name": "Python 3"
    }
  },
  "cells": [
    {
      "cell_type": "markdown",
      "metadata": {
        "id": "view-in-github",
        "colab_type": "text"
      },
      "source": [
        "<a href=\"https://colab.research.google.com/github/Ankan1998/Hackathons/blob/main/HackerEarth_Carnival_Wars.ipynb\" target=\"_parent\"><img src=\"https://colab.research.google.com/assets/colab-badge.svg\" alt=\"Open In Colab\"/></a>"
      ]
    },
    {
      "cell_type": "markdown",
      "metadata": {
        "id": "aINACOWorIQ2"
      },
      "source": [
        "### Checking the dataset"
      ]
    },
    {
      "cell_type": "code",
      "metadata": {
        "id": "898N3zPjrNxc"
      },
      "source": [
        "import pandas as pd \n",
        "import numpy as np"
      ],
      "execution_count": 1,
      "outputs": []
    },
    {
      "cell_type": "code",
      "metadata": {
        "id": "wQHGlW7RqslA"
      },
      "source": [
        "train=pd.read_csv(\"/content/drive/MyDrive/Hackathon/HackerEarth Machine Learning Challenge: Carnival Wars/dataset/train.csv\")\n",
        "test=pd.read_csv(\"/content/drive/MyDrive/Hackathon/HackerEarth Machine Learning Challenge: Carnival Wars/dataset/test.csv\")\n",
        "sample=pd.read_csv(\"/content/drive/MyDrive/Hackathon/HackerEarth Machine Learning Challenge: Carnival Wars/dataset/sample_submission.csv\")"
      ],
      "execution_count": 2,
      "outputs": []
    },
    {
      "cell_type": "code",
      "metadata": {
        "colab": {
          "base_uri": "https://localhost:8080/",
          "height": 316
        },
        "id": "mp4zWwLwrijb",
        "outputId": "55aadc1c-c2a3-43af-8cc7-330d0d3d64bb"
      },
      "source": [
        "train.head()"
      ],
      "execution_count": 3,
      "outputs": [
        {
          "output_type": "execute_result",
          "data": {
            "text/html": [
              "<div>\n",
              "<style scoped>\n",
              "    .dataframe tbody tr th:only-of-type {\n",
              "        vertical-align: middle;\n",
              "    }\n",
              "\n",
              "    .dataframe tbody tr th {\n",
              "        vertical-align: top;\n",
              "    }\n",
              "\n",
              "    .dataframe thead th {\n",
              "        text-align: right;\n",
              "    }\n",
              "</style>\n",
              "<table border=\"1\" class=\"dataframe\">\n",
              "  <thead>\n",
              "    <tr style=\"text-align: right;\">\n",
              "      <th></th>\n",
              "      <th>Product_id</th>\n",
              "      <th>Stall_no</th>\n",
              "      <th>instock_date</th>\n",
              "      <th>Market_Category</th>\n",
              "      <th>Customer_name</th>\n",
              "      <th>Loyalty_customer</th>\n",
              "      <th>Product_Category</th>\n",
              "      <th>Grade</th>\n",
              "      <th>Demand</th>\n",
              "      <th>Discount_avail</th>\n",
              "      <th>charges_1</th>\n",
              "      <th>charges_2 (%)</th>\n",
              "      <th>Minimum_price</th>\n",
              "      <th>Maximum_price</th>\n",
              "      <th>Selling_Price</th>\n",
              "    </tr>\n",
              "  </thead>\n",
              "  <tbody>\n",
              "    <tr>\n",
              "      <th>0</th>\n",
              "      <td>BRAE2NF6JA5GUEXG</td>\n",
              "      <td>37.0</td>\n",
              "      <td>2015-08-22 18:36:12.000</td>\n",
              "      <td>2</td>\n",
              "      <td>Lillyann</td>\n",
              "      <td>Yes</td>\n",
              "      <td>Fashion</td>\n",
              "      <td>1</td>\n",
              "      <td>68</td>\n",
              "      <td>0.0</td>\n",
              "      <td>376.0</td>\n",
              "      <td>11.0</td>\n",
              "      <td>2983.0</td>\n",
              "      <td>4713.0</td>\n",
              "      <td>4185.947700</td>\n",
              "    </tr>\n",
              "    <tr>\n",
              "      <th>1</th>\n",
              "      <td>TUNE8SFB6RJN2HSD</td>\n",
              "      <td>38.0</td>\n",
              "      <td>2016-03-27 21:19:13.000</td>\n",
              "      <td>24</td>\n",
              "      <td>Klynn</td>\n",
              "      <td>Yes</td>\n",
              "      <td>Fashion</td>\n",
              "      <td>0</td>\n",
              "      <td>51</td>\n",
              "      <td>0.0</td>\n",
              "      <td>397.0</td>\n",
              "      <td>12.0</td>\n",
              "      <td>7495.0</td>\n",
              "      <td>10352.0</td>\n",
              "      <td>9271.490256</td>\n",
              "    </tr>\n",
              "    <tr>\n",
              "      <th>2</th>\n",
              "      <td>BRAEAR7WZPQGPBZU</td>\n",
              "      <td>9.0</td>\n",
              "      <td>2015-08-18 19:25:22.000</td>\n",
              "      <td>447</td>\n",
              "      <td>Ridge</td>\n",
              "      <td>Yes</td>\n",
              "      <td>Child_care</td>\n",
              "      <td>0</td>\n",
              "      <td>10</td>\n",
              "      <td>0.0</td>\n",
              "      <td>250.0</td>\n",
              "      <td>9.0</td>\n",
              "      <td>5752.0</td>\n",
              "      <td>7309.0</td>\n",
              "      <td>6785.701362</td>\n",
              "    </tr>\n",
              "    <tr>\n",
              "      <th>3</th>\n",
              "      <td>WATDZ2ZQ8JPDHCTJ</td>\n",
              "      <td>50.0</td>\n",
              "      <td>2016-03-28 21:53:01.000</td>\n",
              "      <td>23</td>\n",
              "      <td>Abran</td>\n",
              "      <td>Yes</td>\n",
              "      <td>Educational</td>\n",
              "      <td>2</td>\n",
              "      <td>48</td>\n",
              "      <td>0.0</td>\n",
              "      <td>144.0</td>\n",
              "      <td>13.0</td>\n",
              "      <td>5090.0</td>\n",
              "      <td>20814.0</td>\n",
              "      <td>13028.917824</td>\n",
              "    </tr>\n",
              "    <tr>\n",
              "      <th>4</th>\n",
              "      <td>JWSEBUKYQPMBZ3RK</td>\n",
              "      <td>7.0</td>\n",
              "      <td>2016-03-29 22:58:53.000</td>\n",
              "      <td>63</td>\n",
              "      <td>Dustyn</td>\n",
              "      <td>Yes</td>\n",
              "      <td>Repair</td>\n",
              "      <td>1</td>\n",
              "      <td>35</td>\n",
              "      <td>1.0</td>\n",
              "      <td>211.0</td>\n",
              "      <td>4.0</td>\n",
              "      <td>2430.0</td>\n",
              "      <td>9261.0</td>\n",
              "      <td>906.553935</td>\n",
              "    </tr>\n",
              "  </tbody>\n",
              "</table>\n",
              "</div>"
            ],
            "text/plain": [
              "         Product_id  Stall_no  ... Maximum_price  Selling_Price\n",
              "0  BRAE2NF6JA5GUEXG      37.0  ...        4713.0    4185.947700\n",
              "1  TUNE8SFB6RJN2HSD      38.0  ...       10352.0    9271.490256\n",
              "2  BRAEAR7WZPQGPBZU       9.0  ...        7309.0    6785.701362\n",
              "3  WATDZ2ZQ8JPDHCTJ      50.0  ...       20814.0   13028.917824\n",
              "4  JWSEBUKYQPMBZ3RK       7.0  ...        9261.0     906.553935\n",
              "\n",
              "[5 rows x 15 columns]"
            ]
          },
          "metadata": {
            "tags": []
          },
          "execution_count": 3
        }
      ]
    },
    {
      "cell_type": "code",
      "metadata": {
        "colab": {
          "base_uri": "https://localhost:8080/",
          "height": 316
        },
        "id": "1EQGHry2rlcg",
        "outputId": "5462a9f7-a459-48b7-dacd-9a2ade309125"
      },
      "source": [
        "test.head()"
      ],
      "execution_count": 4,
      "outputs": [
        {
          "output_type": "execute_result",
          "data": {
            "text/html": [
              "<div>\n",
              "<style scoped>\n",
              "    .dataframe tbody tr th:only-of-type {\n",
              "        vertical-align: middle;\n",
              "    }\n",
              "\n",
              "    .dataframe tbody tr th {\n",
              "        vertical-align: top;\n",
              "    }\n",
              "\n",
              "    .dataframe thead th {\n",
              "        text-align: right;\n",
              "    }\n",
              "</style>\n",
              "<table border=\"1\" class=\"dataframe\">\n",
              "  <thead>\n",
              "    <tr style=\"text-align: right;\">\n",
              "      <th></th>\n",
              "      <th>Product_id</th>\n",
              "      <th>Stall_no</th>\n",
              "      <th>instock_date</th>\n",
              "      <th>Market_Category</th>\n",
              "      <th>Customer_name</th>\n",
              "      <th>Loyalty_customer</th>\n",
              "      <th>Product_Category</th>\n",
              "      <th>Grade</th>\n",
              "      <th>Demand</th>\n",
              "      <th>Discount_avail</th>\n",
              "      <th>charges_1</th>\n",
              "      <th>charges_2 (%)</th>\n",
              "      <th>Minimum_price</th>\n",
              "      <th>Maximum_price</th>\n",
              "    </tr>\n",
              "  </thead>\n",
              "  <tbody>\n",
              "    <tr>\n",
              "      <th>0</th>\n",
              "      <td>SCHE4YSTDVPVZVXW</td>\n",
              "      <td>39.0</td>\n",
              "      <td>2016-01-13 07:45:08.000</td>\n",
              "      <td>205</td>\n",
              "      <td>Ivanka</td>\n",
              "      <td>No</td>\n",
              "      <td>Fashion</td>\n",
              "      <td>0</td>\n",
              "      <td>90</td>\n",
              "      <td>0</td>\n",
              "      <td>380.0</td>\n",
              "      <td>16.0</td>\n",
              "      <td>2576.0</td>\n",
              "      <td>3340</td>\n",
              "    </tr>\n",
              "    <tr>\n",
              "      <th>1</th>\n",
              "      <td>ACCEGCATKHNRXUHW</td>\n",
              "      <td>49.0</td>\n",
              "      <td>2015-08-23 20:37:05.000</td>\n",
              "      <td>3</td>\n",
              "      <td>Isaak</td>\n",
              "      <td>Yes</td>\n",
              "      <td>Fashion</td>\n",
              "      <td>0</td>\n",
              "      <td>87</td>\n",
              "      <td>0</td>\n",
              "      <td>393.0</td>\n",
              "      <td>16.0</td>\n",
              "      <td>1202.0</td>\n",
              "      <td>1955</td>\n",
              "    </tr>\n",
              "    <tr>\n",
              "      <th>2</th>\n",
              "      <td>NKCE6GJ5XVJDXNNZ</td>\n",
              "      <td>1.0</td>\n",
              "      <td>2015-11-14 18:12:39.000</td>\n",
              "      <td>183</td>\n",
              "      <td>Analiese</td>\n",
              "      <td>No</td>\n",
              "      <td>Technology</td>\n",
              "      <td>2</td>\n",
              "      <td>55</td>\n",
              "      <td>0</td>\n",
              "      <td>493.0</td>\n",
              "      <td>9.0</td>\n",
              "      <td>7175.0</td>\n",
              "      <td>15715</td>\n",
              "    </tr>\n",
              "    <tr>\n",
              "      <th>3</th>\n",
              "      <td>NKCEB8BK3ZXDHDHM</td>\n",
              "      <td>8.0</td>\n",
              "      <td>2015-11-21 04:56:19.000</td>\n",
              "      <td>358</td>\n",
              "      <td>Rusty</td>\n",
              "      <td>Yes</td>\n",
              "      <td>Child_care</td>\n",
              "      <td>3</td>\n",
              "      <td>86</td>\n",
              "      <td>0</td>\n",
              "      <td>303.0</td>\n",
              "      <td>16.0</td>\n",
              "      <td>5404.0</td>\n",
              "      <td>13078</td>\n",
              "    </tr>\n",
              "    <tr>\n",
              "      <th>4</th>\n",
              "      <td>TOPEFDXSAHRNPF94</td>\n",
              "      <td>33.0</td>\n",
              "      <td>2015-05-06 15:09:46.000</td>\n",
              "      <td>167</td>\n",
              "      <td>Eloise</td>\n",
              "      <td>No</td>\n",
              "      <td>Technology</td>\n",
              "      <td>0</td>\n",
              "      <td>27</td>\n",
              "      <td>0</td>\n",
              "      <td>567.0</td>\n",
              "      <td>16.0</td>\n",
              "      <td>4069.0</td>\n",
              "      <td>6244</td>\n",
              "    </tr>\n",
              "  </tbody>\n",
              "</table>\n",
              "</div>"
            ],
            "text/plain": [
              "         Product_id  Stall_no  ... Minimum_price  Maximum_price\n",
              "0  SCHE4YSTDVPVZVXW      39.0  ...        2576.0           3340\n",
              "1  ACCEGCATKHNRXUHW      49.0  ...        1202.0           1955\n",
              "2  NKCE6GJ5XVJDXNNZ       1.0  ...        7175.0          15715\n",
              "3  NKCEB8BK3ZXDHDHM       8.0  ...        5404.0          13078\n",
              "4  TOPEFDXSAHRNPF94      33.0  ...        4069.0           6244\n",
              "\n",
              "[5 rows x 14 columns]"
            ]
          },
          "metadata": {
            "tags": []
          },
          "execution_count": 4
        }
      ]
    },
    {
      "cell_type": "code",
      "metadata": {
        "colab": {
          "base_uri": "https://localhost:8080/",
          "height": 195
        },
        "id": "o1V3vLnyrqAk",
        "outputId": "0cc8fb04-9d64-4036-e1c6-29ab697d49de"
      },
      "source": [
        "sample.head()"
      ],
      "execution_count": 5,
      "outputs": [
        {
          "output_type": "execute_result",
          "data": {
            "text/html": [
              "<div>\n",
              "<style scoped>\n",
              "    .dataframe tbody tr th:only-of-type {\n",
              "        vertical-align: middle;\n",
              "    }\n",
              "\n",
              "    .dataframe tbody tr th {\n",
              "        vertical-align: top;\n",
              "    }\n",
              "\n",
              "    .dataframe thead th {\n",
              "        text-align: right;\n",
              "    }\n",
              "</style>\n",
              "<table border=\"1\" class=\"dataframe\">\n",
              "  <thead>\n",
              "    <tr style=\"text-align: right;\">\n",
              "      <th></th>\n",
              "      <th>Product_id</th>\n",
              "      <th>Selling_Price</th>\n",
              "    </tr>\n",
              "  </thead>\n",
              "  <tbody>\n",
              "    <tr>\n",
              "      <th>0</th>\n",
              "      <td>SCHE4YSTDVPVZVXW</td>\n",
              "      <td>3294.594688</td>\n",
              "    </tr>\n",
              "    <tr>\n",
              "      <th>1</th>\n",
              "      <td>ACCEGCATKHNRXUHW</td>\n",
              "      <td>1945.603968</td>\n",
              "    </tr>\n",
              "    <tr>\n",
              "      <th>2</th>\n",
              "      <td>NKCE6GJ5XVJDXNNZ</td>\n",
              "      <td>11871.830880</td>\n",
              "    </tr>\n",
              "    <tr>\n",
              "      <th>3</th>\n",
              "      <td>NKCEB8BK3ZXDHDHM</td>\n",
              "      <td>9421.143424</td>\n",
              "    </tr>\n",
              "    <tr>\n",
              "      <th>4</th>\n",
              "      <td>TOPEFDXSAHRNPF94</td>\n",
              "      <td>5717.420625</td>\n",
              "    </tr>\n",
              "  </tbody>\n",
              "</table>\n",
              "</div>"
            ],
            "text/plain": [
              "         Product_id  Selling_Price\n",
              "0  SCHE4YSTDVPVZVXW    3294.594688\n",
              "1  ACCEGCATKHNRXUHW    1945.603968\n",
              "2  NKCE6GJ5XVJDXNNZ   11871.830880\n",
              "3  NKCEB8BK3ZXDHDHM    9421.143424\n",
              "4  TOPEFDXSAHRNPF94    5717.420625"
            ]
          },
          "metadata": {
            "tags": []
          },
          "execution_count": 5
        }
      ]
    },
    {
      "cell_type": "markdown",
      "metadata": {
        "id": "c2JUvxEmr39E"
      },
      "source": [
        "### Inspecting Train Set"
      ]
    },
    {
      "cell_type": "code",
      "metadata": {
        "id": "hSN4sFYMr2_O"
      },
      "source": [
        ""
      ],
      "execution_count": null,
      "outputs": []
    },
    {
      "cell_type": "code",
      "metadata": {
        "id": "XkREmtyfr2us"
      },
      "source": [
        ""
      ],
      "execution_count": null,
      "outputs": []
    },
    {
      "cell_type": "code",
      "metadata": {
        "id": "Ghry6mwhrsTf"
      },
      "source": [
        ""
      ],
      "execution_count": null,
      "outputs": []
    }
  ]
}